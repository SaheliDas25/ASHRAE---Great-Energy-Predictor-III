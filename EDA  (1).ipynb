{
 "cells": [
  {
   "cell_type": "code",
   "execution_count": 1,
   "metadata": {
    "id": "dAsUw4r53Sre"
   },
   "outputs": [],
   "source": [
    "import pandas as pd\n",
    "import numpy as np\n",
    "import datetime\n",
    "import seaborn as sns\n",
    "import matplotlib.pyplot as plt\n",
    "from tqdm import tqdm\n",
    "from sklearn.preprocessing import LabelEncoder\n",
    "from sklearn.model_selection import train_test_split\n",
    "from sklearn.model_selection import GridSearchCV\n",
    "#from xgboost import XGBRegressor\n",
    "import math\n",
    "from sklearn.metrics import mean_squared_error"
   ]
  },
  {
   "cell_type": "code",
   "execution_count": 2,
   "metadata": {
    "colab": {
     "base_uri": "https://localhost:8080/"
    },
    "id": "zA80TN6W4IIu",
    "outputId": "a93fed9a-c1c2-488a-a34e-408e9cf8cbc9"
   },
   "outputs": [
    {
     "name": "stdout",
     "output_type": "stream",
     "text": [
      "Drive already mounted at /content/drive; to attempt to forcibly remount, call drive.mount(\"/content/drive\", force_remount=True).\n"
     ]
    }
   ],
   "source": [
    "from google.colab import drive\n",
    "drive.mount('/content/drive')"
   ]
  },
  {
   "cell_type": "markdown",
   "metadata": {
    "id": "9dIX5YlTZrhD"
   },
   "source": [
    "#Importing Building Meta Data into Pandas DataFrame"
   ]
  },
  {
   "cell_type": "code",
   "execution_count": 4,
   "metadata": {
    "colab": {
     "base_uri": "https://localhost:8080/",
     "height": 204
    },
    "id": "-JNzYSPy4SG8",
    "outputId": "ea48d1a1-082b-4f40-c9a8-8eb27c4d7eca"
   },
   "outputs": [
    {
     "data": {
      "text/html": [
       "<div>\n",
       "<style scoped>\n",
       "    .dataframe tbody tr th:only-of-type {\n",
       "        vertical-align: middle;\n",
       "    }\n",
       "\n",
       "    .dataframe tbody tr th {\n",
       "        vertical-align: top;\n",
       "    }\n",
       "\n",
       "    .dataframe thead th {\n",
       "        text-align: right;\n",
       "    }\n",
       "</style>\n",
       "<table border=\"1\" class=\"dataframe\">\n",
       "  <thead>\n",
       "    <tr style=\"text-align: right;\">\n",
       "      <th></th>\n",
       "      <th>site_id</th>\n",
       "      <th>building_id</th>\n",
       "      <th>primary_use</th>\n",
       "      <th>square_feet</th>\n",
       "      <th>year_built</th>\n",
       "      <th>floor_count</th>\n",
       "    </tr>\n",
       "  </thead>\n",
       "  <tbody>\n",
       "    <tr>\n",
       "      <th>0</th>\n",
       "      <td>0</td>\n",
       "      <td>0</td>\n",
       "      <td>Education</td>\n",
       "      <td>7432</td>\n",
       "      <td>2008.0</td>\n",
       "      <td>NaN</td>\n",
       "    </tr>\n",
       "    <tr>\n",
       "      <th>1</th>\n",
       "      <td>0</td>\n",
       "      <td>1</td>\n",
       "      <td>Education</td>\n",
       "      <td>2720</td>\n",
       "      <td>2004.0</td>\n",
       "      <td>NaN</td>\n",
       "    </tr>\n",
       "    <tr>\n",
       "      <th>2</th>\n",
       "      <td>0</td>\n",
       "      <td>2</td>\n",
       "      <td>Education</td>\n",
       "      <td>5376</td>\n",
       "      <td>1991.0</td>\n",
       "      <td>NaN</td>\n",
       "    </tr>\n",
       "    <tr>\n",
       "      <th>3</th>\n",
       "      <td>0</td>\n",
       "      <td>3</td>\n",
       "      <td>Education</td>\n",
       "      <td>23685</td>\n",
       "      <td>2002.0</td>\n",
       "      <td>NaN</td>\n",
       "    </tr>\n",
       "    <tr>\n",
       "      <th>4</th>\n",
       "      <td>0</td>\n",
       "      <td>4</td>\n",
       "      <td>Education</td>\n",
       "      <td>116607</td>\n",
       "      <td>1975.0</td>\n",
       "      <td>NaN</td>\n",
       "    </tr>\n",
       "  </tbody>\n",
       "</table>\n",
       "</div>"
      ],
      "text/plain": [
       "   site_id  building_id primary_use  square_feet  year_built  floor_count\n",
       "0        0            0   Education         7432      2008.0          NaN\n",
       "1        0            1   Education         2720      2004.0          NaN\n",
       "2        0            2   Education         5376      1991.0          NaN\n",
       "3        0            3   Education        23685      2002.0          NaN\n",
       "4        0            4   Education       116607      1975.0          NaN"
      ]
     },
     "execution_count": 4,
     "metadata": {},
     "output_type": "execute_result"
    }
   ],
   "source": [
    "#path = r'/content/drive/My Drive/case study1/building_metadata.csv'\n",
    "building_data = pd.read_csv('building_metadata.csv')\n",
    "building_data.head()"
   ]
  },
  {
   "cell_type": "code",
   "execution_count": 4,
   "metadata": {
    "colab": {
     "base_uri": "https://localhost:8080/",
     "height": 513
    },
    "id": "3_Z4TMz44zW7",
    "outputId": "e92ea979-d4dd-447c-fe83-679a3d22988b"
   },
   "outputs": [
    {
     "data": {
      "image/png": "[encoded data removed]",
      "text/plain": [
       "<Figure size 1080x576 with 1 Axes>"
      ]
     },
     "metadata": {
      "needs_background": "light",
      "tags": []
     },
     "output_type": "display_data"
    }
   ],
   "source": [
    "plt.rcParams['figure.figsize']=(15,8)\n",
    "building_data.primary_use.value_counts().plot(kind='barh',alpha=0.5)\n",
    "plt.xlabel('Count')\n",
    "plt.ylabel('Primary Use')\n",
    "plt.title('Frequency of Primary Use Type')\n",
    "plt.show()"
   ]
  },
  {
   "cell_type": "markdown",
   "metadata": {
    "id": "7plIt_GItkL3"
   },
   "source": [
    "'Education' Building Primary Use Type is having the largest count which may lead to most energy consumption"
   ]
  },
  {
   "cell_type": "code",
   "execution_count": 5,
   "metadata": {
    "colab": {
     "base_uri": "https://localhost:8080/",
     "height": 513
    },
    "id": "lChOt9SkuWni",
    "outputId": "40662879-c700-4949-c358-e76786990460"
   },
   "outputs": [
    {
     "data": {
      "image/png": "[encoded data removed]",
      "text/plain": [
       "<Figure size 1080x576 with 1 Axes>"
      ]
     },
     "metadata": {
      "needs_background": "light",
      "tags": []
     },
     "output_type": "display_data"
    }
   ],
   "source": [
    "plt.rcParams['figure.figsize']=(15,8)\n",
    "building_data.groupby('primary_use')['square_feet'].sum().sort_values(ascending=False).plot(kind='barh',alpha=0.5)\n",
    "plt.xlabel('TOTAL AREA')\n",
    "plt.ylabel('PRIMARY USE')\n",
    "plt.title('AREA SIZE BASED ON PRIMARY USE')\n",
    "plt.show()"
   ]
  },
  {
   "cell_type": "markdown",
   "metadata": {
    "id": "sMjQPTXOve5T"
   },
   "source": [
    "'Education' Primary Use is having maximum square feet area which may lead to maximum energy consumption"
   ]
  },
  {
   "cell_type": "markdown",
   "metadata": {
    "id": "R7CpwwmMSdfm"
   },
   "source": [
    "#Importing weather_train Data into Pandas Dataframe"
   ]
  },
  {
   "cell_type": "code",
   "execution_count": 5,
   "metadata": {
    "colab": {
     "base_uri": "https://localhost:8080/",
     "height": 204
    },
    "id": "dzeel9bQ86F0",
    "outputId": "9a019f00-2968-4996-8c20-ab3e555d6133"
   },
   "outputs": [
    {
     "data": {
      "text/html": [
       "<div>\n",
       "<style scoped>\n",
       "    .dataframe tbody tr th:only-of-type {\n",
       "        vertical-align: middle;\n",
       "    }\n",
       "\n",
       "    .dataframe tbody tr th {\n",
       "        vertical-align: top;\n",
       "    }\n",
       "\n",
       "    .dataframe thead th {\n",
       "        text-align: right;\n",
       "    }\n",
       "</style>\n",
       "<table border=\"1\" class=\"dataframe\">\n",
       "  <thead>\n",
       "    <tr style=\"text-align: right;\">\n",
       "      <th></th>\n",
       "      <th>site_id</th>\n",
       "      <th>timestamp</th>\n",
       "      <th>air_temperature</th>\n",
       "      <th>cloud_coverage</th>\n",
       "      <th>dew_temperature</th>\n",
       "      <th>precip_depth_1_hr</th>\n",
       "      <th>sea_level_pressure</th>\n",
       "      <th>wind_direction</th>\n",
       "      <th>wind_speed</th>\n",
       "    </tr>\n",
       "  </thead>\n",
       "  <tbody>\n",
       "    <tr>\n",
       "      <th>0</th>\n",
       "      <td>0</td>\n",
       "      <td>2016-01-01 00:00:00</td>\n",
       "      <td>25.0</td>\n",
       "      <td>6.0</td>\n",
       "      <td>20.0</td>\n",
       "      <td>NaN</td>\n",
       "      <td>1019.7</td>\n",
       "      <td>0.0</td>\n",
       "      <td>0.0</td>\n",
       "    </tr>\n",
       "    <tr>\n",
       "      <th>1</th>\n",
       "      <td>0</td>\n",
       "      <td>2016-01-01 01:00:00</td>\n",
       "      <td>24.4</td>\n",
       "      <td>NaN</td>\n",
       "      <td>21.1</td>\n",
       "      <td>-1.0</td>\n",
       "      <td>1020.2</td>\n",
       "      <td>70.0</td>\n",
       "      <td>1.5</td>\n",
       "    </tr>\n",
       "    <tr>\n",
       "      <th>2</th>\n",
       "      <td>0</td>\n",
       "      <td>2016-01-01 02:00:00</td>\n",
       "      <td>22.8</td>\n",
       "      <td>2.0</td>\n",
       "      <td>21.1</td>\n",
       "      <td>0.0</td>\n",
       "      <td>1020.2</td>\n",
       "      <td>0.0</td>\n",
       "      <td>0.0</td>\n",
       "    </tr>\n",
       "    <tr>\n",
       "      <th>3</th>\n",
       "      <td>0</td>\n",
       "      <td>2016-01-01 03:00:00</td>\n",
       "      <td>21.1</td>\n",
       "      <td>2.0</td>\n",
       "      <td>20.6</td>\n",
       "      <td>0.0</td>\n",
       "      <td>1020.1</td>\n",
       "      <td>0.0</td>\n",
       "      <td>0.0</td>\n",
       "    </tr>\n",
       "    <tr>\n",
       "      <th>4</th>\n",
       "      <td>0</td>\n",
       "      <td>2016-01-01 04:00:00</td>\n",
       "      <td>20.0</td>\n",
       "      <td>2.0</td>\n",
       "      <td>20.0</td>\n",
       "      <td>-1.0</td>\n",
       "      <td>1020.0</td>\n",
       "      <td>250.0</td>\n",
       "      <td>2.6</td>\n",
       "    </tr>\n",
       "  </tbody>\n",
       "</table>\n",
       "</div>"
      ],
      "text/plain": [
       "   site_id            timestamp  air_temperature  cloud_coverage  \\\n",
       "0        0  2016-01-01 00:00:00             25.0             6.0   \n",
       "1        0  2016-01-01 01:00:00             24.4             NaN   \n",
       "2        0  2016-01-01 02:00:00             22.8             2.0   \n",
       "3        0  2016-01-01 03:00:00             21.1             2.0   \n",
       "4        0  2016-01-01 04:00:00             20.0             2.0   \n",
       "\n",
       "   dew_temperature  precip_depth_1_hr  sea_level_pressure  wind_direction  \\\n",
       "0             20.0                NaN              1019.7             0.0   \n",
       "1             21.1               -1.0              1020.2            70.0   \n",
       "2             21.1                0.0              1020.2             0.0   \n",
       "3             20.6                0.0              1020.1             0.0   \n",
       "4             20.0               -1.0              1020.0           250.0   \n",
       "\n",
       "   wind_speed  \n",
       "0         0.0  \n",
       "1         1.5  \n",
       "2         0.0  \n",
       "3         0.0  \n",
       "4         2.6  "
      ]
     },
     "execution_count": 5,
     "metadata": {},
     "output_type": "execute_result"
    }
   ],
   "source": [
    "#path = r'/content/drive/My Drive/case study1/weather_train.csv'\n",
    "weather = pd.read_csv('weather_train.csv')\n",
    "weather.head()"
   ]
  },
  {
   "cell_type": "code",
   "execution_count": 7,
   "metadata": {
    "colab": {
     "base_uri": "https://localhost:8080/",
     "height": 583
    },
    "id": "jduNp-HGx4Nh",
    "outputId": "4c9185a5-0442-459d-b59d-79c23d72f652"
   },
   "outputs": [
    {
     "data": {
      "image/png": "[encoded data removed]",
      "text/plain": [
       "<Figure size 1080x576 with 2 Axes>"
      ]
     },
     "metadata": {
      "needs_background": "light",
      "tags": []
     },
     "output_type": "display_data"
    }
   ],
   "source": [
    "sns.heatmap(weather.corr(),cmap='Blues')\n",
    "plt.title('WEATHER CORRELATION HEATMAP')\n",
    "plt.show()"
   ]
  },
  {
   "cell_type": "markdown",
   "metadata": {
    "id": "98DGdOTO2NPp"
   },
   "source": [
    "Air_temparature and dew_temparature features are highly correlated and sea_level_pressure is having less relation with other features"
   ]
  },
  {
   "cell_type": "markdown",
   "metadata": {
    "id": "0Z9REdoAZ-Cn"
   },
   "source": [
    "#Importing Train Data into Pandas Dataframe"
   ]
  },
  {
   "cell_type": "code",
   "execution_count": 6,
   "metadata": {
    "colab": {
     "base_uri": "https://localhost:8080/",
     "height": 204
    },
    "id": "O0XveU_n5V03",
    "outputId": "47040165-b815-47d8-b51a-d438206f8453"
   },
   "outputs": [
    {
     "data": {
      "text/html": [
       "<div>\n",
       "<style scoped>\n",
       "    .dataframe tbody tr th:only-of-type {\n",
       "        vertical-align: middle;\n",
       "    }\n",
       "\n",
       "    .dataframe tbody tr th {\n",
       "        vertical-align: top;\n",
       "    }\n",
       "\n",
       "    .dataframe thead th {\n",
       "        text-align: right;\n",
       "    }\n",
       "</style>\n",
       "<table border=\"1\" class=\"dataframe\">\n",
       "  <thead>\n",
       "    <tr style=\"text-align: right;\">\n",
       "      <th></th>\n",
       "      <th>building_id</th>\n",
       "      <th>meter</th>\n",
       "      <th>timestamp</th>\n",
       "      <th>meter_reading</th>\n",
       "    </tr>\n",
       "  </thead>\n",
       "  <tbody>\n",
       "    <tr>\n",
       "      <th>0</th>\n",
       "      <td>0</td>\n",
       "      <td>0</td>\n",
       "      <td>2016-01-01 00:00:00</td>\n",
       "      <td>0.0</td>\n",
       "    </tr>\n",
       "    <tr>\n",
       "      <th>1</th>\n",
       "      <td>1</td>\n",
       "      <td>0</td>\n",
       "      <td>2016-01-01 00:00:00</td>\n",
       "      <td>0.0</td>\n",
       "    </tr>\n",
       "    <tr>\n",
       "      <th>2</th>\n",
       "      <td>2</td>\n",
       "      <td>0</td>\n",
       "      <td>2016-01-01 00:00:00</td>\n",
       "      <td>0.0</td>\n",
       "    </tr>\n",
       "    <tr>\n",
       "      <th>3</th>\n",
       "      <td>3</td>\n",
       "      <td>0</td>\n",
       "      <td>2016-01-01 00:00:00</td>\n",
       "      <td>0.0</td>\n",
       "    </tr>\n",
       "    <tr>\n",
       "      <th>4</th>\n",
       "      <td>4</td>\n",
       "      <td>0</td>\n",
       "      <td>2016-01-01 00:00:00</td>\n",
       "      <td>0.0</td>\n",
       "    </tr>\n",
       "  </tbody>\n",
       "</table>\n",
       "</div>"
      ],
      "text/plain": [
       "   building_id  meter            timestamp  meter_reading\n",
       "0            0      0  2016-01-01 00:00:00            0.0\n",
       "1            1      0  2016-01-01 00:00:00            0.0\n",
       "2            2      0  2016-01-01 00:00:00            0.0\n",
       "3            3      0  2016-01-01 00:00:00            0.0\n",
       "4            4      0  2016-01-01 00:00:00            0.0"
      ]
     },
     "execution_count": 6,
     "metadata": {},
     "output_type": "execute_result"
    }
   ],
   "source": [
    "#path = r'/content/drive/My Drive/case study1/train.csv'\n",
    "train = pd.read_csv('train.csv')\n",
    "train.head()"
   ]
  },
  {
   "cell_type": "markdown",
   "metadata": {
    "id": "CGQvjISWy9Oe"
   },
   "source": [
    "# Merge traindata , building data and weather data"
   ]
  },
  {
   "cell_type": "code",
   "execution_count": 7,
   "metadata": {
    "colab": {
     "base_uri": "https://localhost:8080/",
     "height": 394
    },
    "id": "QrNLzJVk-7BO",
    "outputId": "06451533-f701-4872-ae44-f5e16b2270aa"
   },
   "outputs": [
    {
     "data": {
      "text/html": [
       "<div>\n",
       "<style scoped>\n",
       "    .dataframe tbody tr th:only-of-type {\n",
       "        vertical-align: middle;\n",
       "    }\n",
       "\n",
       "    .dataframe tbody tr th {\n",
       "        vertical-align: top;\n",
       "    }\n",
       "\n",
       "    .dataframe thead th {\n",
       "        text-align: right;\n",
       "    }\n",
       "</style>\n",
       "<table border=\"1\" class=\"dataframe\">\n",
       "  <thead>\n",
       "    <tr style=\"text-align: right;\">\n",
       "      <th></th>\n",
       "      <th>building_id</th>\n",
       "      <th>meter</th>\n",
       "      <th>timestamp</th>\n",
       "      <th>meter_reading</th>\n",
       "      <th>site_id</th>\n",
       "      <th>primary_use</th>\n",
       "      <th>square_feet</th>\n",
       "      <th>year_built</th>\n",
       "      <th>floor_count</th>\n",
       "      <th>air_temperature</th>\n",
       "      <th>cloud_coverage</th>\n",
       "      <th>dew_temperature</th>\n",
       "      <th>precip_depth_1_hr</th>\n",
       "      <th>sea_level_pressure</th>\n",
       "      <th>wind_direction</th>\n",
       "      <th>wind_speed</th>\n",
       "    </tr>\n",
       "  </thead>\n",
       "  <tbody>\n",
       "    <tr>\n",
       "      <th>0</th>\n",
       "      <td>0</td>\n",
       "      <td>0</td>\n",
       "      <td>2016-01-01 00:00:00</td>\n",
       "      <td>0.0</td>\n",
       "      <td>0</td>\n",
       "      <td>Education</td>\n",
       "      <td>7432</td>\n",
       "      <td>2008.0</td>\n",
       "      <td>NaN</td>\n",
       "      <td>25.0</td>\n",
       "      <td>6.0</td>\n",
       "      <td>20.0</td>\n",
       "      <td>NaN</td>\n",
       "      <td>1019.7</td>\n",
       "      <td>0.0</td>\n",
       "      <td>0.0</td>\n",
       "    </tr>\n",
       "    <tr>\n",
       "      <th>1</th>\n",
       "      <td>1</td>\n",
       "      <td>0</td>\n",
       "      <td>2016-01-01 00:00:00</td>\n",
       "      <td>0.0</td>\n",
       "      <td>0</td>\n",
       "      <td>Education</td>\n",
       "      <td>2720</td>\n",
       "      <td>2004.0</td>\n",
       "      <td>NaN</td>\n",
       "      <td>25.0</td>\n",
       "      <td>6.0</td>\n",
       "      <td>20.0</td>\n",
       "      <td>NaN</td>\n",
       "      <td>1019.7</td>\n",
       "      <td>0.0</td>\n",
       "      <td>0.0</td>\n",
       "    </tr>\n",
       "    <tr>\n",
       "      <th>2</th>\n",
       "      <td>2</td>\n",
       "      <td>0</td>\n",
       "      <td>2016-01-01 00:00:00</td>\n",
       "      <td>0.0</td>\n",
       "      <td>0</td>\n",
       "      <td>Education</td>\n",
       "      <td>5376</td>\n",
       "      <td>1991.0</td>\n",
       "      <td>NaN</td>\n",
       "      <td>25.0</td>\n",
       "      <td>6.0</td>\n",
       "      <td>20.0</td>\n",
       "      <td>NaN</td>\n",
       "      <td>1019.7</td>\n",
       "      <td>0.0</td>\n",
       "      <td>0.0</td>\n",
       "    </tr>\n",
       "    <tr>\n",
       "      <th>3</th>\n",
       "      <td>3</td>\n",
       "      <td>0</td>\n",
       "      <td>2016-01-01 00:00:00</td>\n",
       "      <td>0.0</td>\n",
       "      <td>0</td>\n",
       "      <td>Education</td>\n",
       "      <td>23685</td>\n",
       "      <td>2002.0</td>\n",
       "      <td>NaN</td>\n",
       "      <td>25.0</td>\n",
       "      <td>6.0</td>\n",
       "      <td>20.0</td>\n",
       "      <td>NaN</td>\n",
       "      <td>1019.7</td>\n",
       "      <td>0.0</td>\n",
       "      <td>0.0</td>\n",
       "    </tr>\n",
       "    <tr>\n",
       "      <th>4</th>\n",
       "      <td>4</td>\n",
       "      <td>0</td>\n",
       "      <td>2016-01-01 00:00:00</td>\n",
       "      <td>0.0</td>\n",
       "      <td>0</td>\n",
       "      <td>Education</td>\n",
       "      <td>116607</td>\n",
       "      <td>1975.0</td>\n",
       "      <td>NaN</td>\n",
       "      <td>25.0</td>\n",
       "      <td>6.0</td>\n",
       "      <td>20.0</td>\n",
       "      <td>NaN</td>\n",
       "      <td>1019.7</td>\n",
       "      <td>0.0</td>\n",
       "      <td>0.0</td>\n",
       "    </tr>\n",
       "  </tbody>\n",
       "</table>\n",
       "</div>"
      ],
      "text/plain": [
       "   building_id  meter            timestamp  meter_reading  site_id  \\\n",
       "0            0      0  2016-01-01 00:00:00            0.0        0   \n",
       "1            1      0  2016-01-01 00:00:00            0.0        0   \n",
       "2            2      0  2016-01-01 00:00:00            0.0        0   \n",
       "3            3      0  2016-01-01 00:00:00            0.0        0   \n",
       "4            4      0  2016-01-01 00:00:00            0.0        0   \n",
       "\n",
       "  primary_use  square_feet  year_built  floor_count  air_temperature  \\\n",
       "0   Education         7432      2008.0          NaN             25.0   \n",
       "1   Education         2720      2004.0          NaN             25.0   \n",
       "2   Education         5376      1991.0          NaN             25.0   \n",
       "3   Education        23685      2002.0          NaN             25.0   \n",
       "4   Education       116607      1975.0          NaN             25.0   \n",
       "\n",
       "   cloud_coverage  dew_temperature  precip_depth_1_hr  sea_level_pressure  \\\n",
       "0             6.0             20.0                NaN              1019.7   \n",
       "1             6.0             20.0                NaN              1019.7   \n",
       "2             6.0             20.0                NaN              1019.7   \n",
       "3             6.0             20.0                NaN              1019.7   \n",
       "4             6.0             20.0                NaN              1019.7   \n",
       "\n",
       "   wind_direction  wind_speed  \n",
       "0             0.0         0.0  \n",
       "1             0.0         0.0  \n",
       "2             0.0         0.0  \n",
       "3             0.0         0.0  \n",
       "4             0.0         0.0  "
      ]
     },
     "execution_count": 7,
     "metadata": {},
     "output_type": "execute_result"
    }
   ],
   "source": [
    "new=pd.merge(train,building_data,how=\"left\",on='building_id')\n",
    "train_data=pd.merge(new,weather,how=\"left\",on=['site_id','timestamp'])\n",
    "train_data.head()\n"
   ]
  },
  {
   "cell_type": "markdown",
   "metadata": {
    "id": "C5PG72mTigHz"
   },
   "source": [
    "#FEATURE ENGINEERING"
   ]
  },
  {
   "cell_type": "code",
   "execution_count": 8,
   "metadata": {
    "id": "DtG4st_IiPwS"
   },
   "outputs": [],
   "source": [
    "'''make a copy of train data and add features'''\n",
    "train_copy = train_data.copy()"
   ]
  },
  {
   "cell_type": "code",
   "execution_count": 11,
   "metadata": {
    "id": "VZ5-ODEditwT"
   },
   "outputs": [],
   "source": [
    "'''Dropping Timestamp and extracting other features from timestamp'''\n",
    "train_copy.drop(columns=['timestamp'],inplace=True,axis=1)"
   ]
  },
  {
   "cell_type": "code",
   "execution_count": 9,
   "metadata": {
    "colab": {
     "base_uri": "https://localhost:8080/",
     "height": 309
    },
    "id": "Dnhe2Jq_IHcu",
    "outputId": "c7a08cc7-87c6-42ad-e2cc-3ba5172b74ae"
   },
   "outputs": [
    {
     "data": {
      "text/html": [
       "<div>\n",
       "<style scoped>\n",
       "    .dataframe tbody tr th:only-of-type {\n",
       "        vertical-align: middle;\n",
       "    }\n",
       "\n",
       "    .dataframe tbody tr th {\n",
       "        vertical-align: top;\n",
       "    }\n",
       "\n",
       "    .dataframe thead th {\n",
       "        text-align: right;\n",
       "    }\n",
       "</style>\n",
       "<table border=\"1\" class=\"dataframe\">\n",
       "  <thead>\n",
       "    <tr style=\"text-align: right;\">\n",
       "      <th></th>\n",
       "      <th>building_id</th>\n",
       "      <th>meter</th>\n",
       "      <th>timestamp</th>\n",
       "      <th>meter_reading</th>\n",
       "      <th>site_id</th>\n",
       "      <th>primary_use</th>\n",
       "      <th>square_feet</th>\n",
       "      <th>year_built</th>\n",
       "      <th>floor_count</th>\n",
       "      <th>air_temperature</th>\n",
       "      <th>cloud_coverage</th>\n",
       "      <th>dew_temperature</th>\n",
       "      <th>precip_depth_1_hr</th>\n",
       "      <th>sea_level_pressure</th>\n",
       "      <th>wind_direction</th>\n",
       "      <th>wind_speed</th>\n",
       "      <th>hour</th>\n",
       "      <th>day</th>\n",
       "      <th>month</th>\n",
       "      <th>weekday</th>\n",
       "    </tr>\n",
       "  </thead>\n",
       "  <tbody>\n",
       "    <tr>\n",
       "      <th>0</th>\n",
       "      <td>0</td>\n",
       "      <td>0</td>\n",
       "      <td>2016-01-01</td>\n",
       "      <td>0.0</td>\n",
       "      <td>0</td>\n",
       "      <td>Education</td>\n",
       "      <td>8</td>\n",
       "      <td>2008.0</td>\n",
       "      <td>NaN</td>\n",
       "      <td>25.0</td>\n",
       "      <td>6.0</td>\n",
       "      <td>20.0</td>\n",
       "      <td>NaN</td>\n",
       "      <td>1019.7</td>\n",
       "      <td>0.0</td>\n",
       "      <td>0.0</td>\n",
       "      <td>0</td>\n",
       "      <td>1</td>\n",
       "      <td>1</td>\n",
       "      <td>4</td>\n",
       "    </tr>\n",
       "    <tr>\n",
       "      <th>1</th>\n",
       "      <td>1</td>\n",
       "      <td>0</td>\n",
       "      <td>2016-01-01</td>\n",
       "      <td>0.0</td>\n",
       "      <td>0</td>\n",
       "      <td>Education</td>\n",
       "      <td>160</td>\n",
       "      <td>2004.0</td>\n",
       "      <td>NaN</td>\n",
       "      <td>25.0</td>\n",
       "      <td>6.0</td>\n",
       "      <td>20.0</td>\n",
       "      <td>NaN</td>\n",
       "      <td>1019.7</td>\n",
       "      <td>0.0</td>\n",
       "      <td>0.0</td>\n",
       "      <td>0</td>\n",
       "      <td>1</td>\n",
       "      <td>1</td>\n",
       "      <td>4</td>\n",
       "    </tr>\n",
       "    <tr>\n",
       "      <th>2</th>\n",
       "      <td>2</td>\n",
       "      <td>0</td>\n",
       "      <td>2016-01-01</td>\n",
       "      <td>0.0</td>\n",
       "      <td>0</td>\n",
       "      <td>Education</td>\n",
       "      <td>0</td>\n",
       "      <td>1991.0</td>\n",
       "      <td>NaN</td>\n",
       "      <td>25.0</td>\n",
       "      <td>6.0</td>\n",
       "      <td>20.0</td>\n",
       "      <td>NaN</td>\n",
       "      <td>1019.7</td>\n",
       "      <td>0.0</td>\n",
       "      <td>0.0</td>\n",
       "      <td>0</td>\n",
       "      <td>1</td>\n",
       "      <td>1</td>\n",
       "      <td>4</td>\n",
       "    </tr>\n",
       "    <tr>\n",
       "      <th>3</th>\n",
       "      <td>3</td>\n",
       "      <td>0</td>\n",
       "      <td>2016-01-01</td>\n",
       "      <td>0.0</td>\n",
       "      <td>0</td>\n",
       "      <td>Education</td>\n",
       "      <td>133</td>\n",
       "      <td>2002.0</td>\n",
       "      <td>NaN</td>\n",
       "      <td>25.0</td>\n",
       "      <td>6.0</td>\n",
       "      <td>20.0</td>\n",
       "      <td>NaN</td>\n",
       "      <td>1019.7</td>\n",
       "      <td>0.0</td>\n",
       "      <td>0.0</td>\n",
       "      <td>0</td>\n",
       "      <td>1</td>\n",
       "      <td>1</td>\n",
       "      <td>4</td>\n",
       "    </tr>\n",
       "    <tr>\n",
       "      <th>4</th>\n",
       "      <td>4</td>\n",
       "      <td>0</td>\n",
       "      <td>2016-01-01</td>\n",
       "      <td>0.0</td>\n",
       "      <td>0</td>\n",
       "      <td>Education</td>\n",
       "      <td>127</td>\n",
       "      <td>1975.0</td>\n",
       "      <td>NaN</td>\n",
       "      <td>25.0</td>\n",
       "      <td>6.0</td>\n",
       "      <td>20.0</td>\n",
       "      <td>NaN</td>\n",
       "      <td>1019.7</td>\n",
       "      <td>0.0</td>\n",
       "      <td>0.0</td>\n",
       "      <td>0</td>\n",
       "      <td>1</td>\n",
       "      <td>1</td>\n",
       "      <td>4</td>\n",
       "    </tr>\n",
       "  </tbody>\n",
       "</table>\n",
       "</div>"
      ],
      "text/plain": [
       "   building_id  meter  timestamp  meter_reading  site_id primary_use  \\\n",
       "0            0      0 2016-01-01            0.0        0   Education   \n",
       "1            1      0 2016-01-01            0.0        0   Education   \n",
       "2            2      0 2016-01-01            0.0        0   Education   \n",
       "3            3      0 2016-01-01            0.0        0   Education   \n",
       "4            4      0 2016-01-01            0.0        0   Education   \n",
       "\n",
       "   square_feet  year_built  floor_count  air_temperature  cloud_coverage  \\\n",
       "0            8      2008.0          NaN             25.0             6.0   \n",
       "1          160      2004.0          NaN             25.0             6.0   \n",
       "2            0      1991.0          NaN             25.0             6.0   \n",
       "3          133      2002.0          NaN             25.0             6.0   \n",
       "4          127      1975.0          NaN             25.0             6.0   \n",
       "\n",
       "   dew_temperature  precip_depth_1_hr  sea_level_pressure  wind_direction  \\\n",
       "0             20.0                NaN              1019.7             0.0   \n",
       "1             20.0                NaN              1019.7             0.0   \n",
       "2             20.0                NaN              1019.7             0.0   \n",
       "3             20.0                NaN              1019.7             0.0   \n",
       "4             20.0                NaN              1019.7             0.0   \n",
       "\n",
       "   wind_speed  hour  day  month  weekday  \n",
       "0         0.0     0    1      1        4  \n",
       "1         0.0     0    1      1        4  \n",
       "2         0.0     0    1      1        4  \n",
       "3         0.0     0    1      1        4  \n",
       "4         0.0     0    1      1        4  "
      ]
     },
     "execution_count": 9,
     "metadata": {},
     "output_type": "execute_result"
    }
   ],
   "source": [
    "''' add new features'''\n",
    "train_copy['timestamp']=pd.to_datetime(train_copy['timestamp'])\n",
    "train_copy['hour']=np.uint8(train_copy['timestamp'].dt.hour)\n",
    "train_copy['day']=np.uint8(train_copy['timestamp'].dt.day)\n",
    "train_copy['month']=np.uint8(train_copy['timestamp'].dt.month)\n",
    "train_copy['weekday']=np.uint8(train_copy['timestamp'].dt.dayofweek)\n",
    "''' change the datatype to reduce memory usage'''\n",
    "train_copy['building_id']=np.uint8(train_copy['building_id'])\n",
    "train_copy['meter']=np.uint8(train_copy['meter'])\n",
    "train_copy['site_id']=np.uint8(train_copy['site_id'])\n",
    "train_copy['square_feet']=np.uint8(train_copy['square_feet'])\n",
    "'''train_copy['floor_count']=np.uint8(train_data['floor_count'])\n",
    "train_copy['air_temperature']=np.float32(train_data['air_temperature'])\n",
    "train_copy['cloud_coverage']=np.float32(train_data['cloud_coverage'])\n",
    "train_copy['dew_temperature']=np.float16(train_data['dew_temperature'])\n",
    "train_copy['precip_depth_1_hr']=np.float16(train_data['precip_depth_1_hr'])\n",
    "train_copy['sea_level_pressure']=np.float16(train_data['sea_level_pressure'])\n",
    "train_copy['wind_direction']=np.float16(train_data['wind_direction'])\n",
    "train_copy['wind_speed']=np.float16(train_data['wind_speed'])'''\n",
    "train_copy.head()"
   ]
  },
  {
   "cell_type": "markdown",
   "metadata": {
    "id": "PZdchFYGgUIB"
   },
   "source": [
    "1. Add column named ‘ hour’\n",
    "2. Add column named ‘ day’\n",
    "3. Add column named ‘ month’\n",
    "4. Add column named ‘ weekday\n",
    "\n",
    "Here we reduce the size of datatype of few features for better memory optimization"
   ]
  },
  {
   "cell_type": "code",
   "execution_count": 10,
   "metadata": {
    "id": "sb4nw5RZUyo5"
   },
   "outputs": [],
   "source": [
    "def daymap(x):\n",
    "  day_dict={0:'Monday',1:'Tuesday',2:'Wednesday',3:'Thursday',4:'Friday',5:'Saturday',6:'Sunday'}\n",
    "  return day_dict[x]"
   ]
  },
  {
   "cell_type": "code",
   "execution_count": 11,
   "metadata": {
    "colab": {
     "base_uri": "https://localhost:8080/",
     "height": 306
    },
    "id": "TEXu443WUulX",
    "outputId": "7f4c1aff-4c52-4df2-b3db-9e1d86b3a6db"
   },
   "outputs": [],
   "source": [
    "train_copy['weekday']= train_copy['weekday'].map(daymap)"
   ]
  },
  {
   "cell_type": "code",
   "execution_count": 12,
   "metadata": {
    "colab": {
     "base_uri": "https://localhost:8080/",
     "height": 309
    },
    "id": "DF-i3QcZVXNY",
    "outputId": "beeee766-b38e-4f20-b4c2-fd6b696c73ab"
   },
   "outputs": [
    {
     "data": {
      "text/html": [
       "<div>\n",
       "<style scoped>\n",
       "    .dataframe tbody tr th:only-of-type {\n",
       "        vertical-align: middle;\n",
       "    }\n",
       "\n",
       "    .dataframe tbody tr th {\n",
       "        vertical-align: top;\n",
       "    }\n",
       "\n",
       "    .dataframe thead th {\n",
       "        text-align: right;\n",
       "    }\n",
       "</style>\n",
       "<table border=\"1\" class=\"dataframe\">\n",
       "  <thead>\n",
       "    <tr style=\"text-align: right;\">\n",
       "      <th></th>\n",
       "      <th>building_id</th>\n",
       "      <th>meter</th>\n",
       "      <th>timestamp</th>\n",
       "      <th>meter_reading</th>\n",
       "      <th>site_id</th>\n",
       "      <th>primary_use</th>\n",
       "      <th>square_feet</th>\n",
       "      <th>year_built</th>\n",
       "      <th>floor_count</th>\n",
       "      <th>air_temperature</th>\n",
       "      <th>cloud_coverage</th>\n",
       "      <th>dew_temperature</th>\n",
       "      <th>precip_depth_1_hr</th>\n",
       "      <th>sea_level_pressure</th>\n",
       "      <th>wind_direction</th>\n",
       "      <th>wind_speed</th>\n",
       "      <th>hour</th>\n",
       "      <th>day</th>\n",
       "      <th>month</th>\n",
       "      <th>weekday</th>\n",
       "    </tr>\n",
       "  </thead>\n",
       "  <tbody>\n",
       "    <tr>\n",
       "      <th>0</th>\n",
       "      <td>0</td>\n",
       "      <td>0</td>\n",
       "      <td>2016-01-01</td>\n",
       "      <td>0.0</td>\n",
       "      <td>0</td>\n",
       "      <td>Education</td>\n",
       "      <td>8</td>\n",
       "      <td>2008.0</td>\n",
       "      <td>NaN</td>\n",
       "      <td>25.0</td>\n",
       "      <td>6.0</td>\n",
       "      <td>20.0</td>\n",
       "      <td>NaN</td>\n",
       "      <td>1019.7</td>\n",
       "      <td>0.0</td>\n",
       "      <td>0.0</td>\n",
       "      <td>0</td>\n",
       "      <td>1</td>\n",
       "      <td>1</td>\n",
       "      <td>Friday</td>\n",
       "    </tr>\n",
       "    <tr>\n",
       "      <th>1</th>\n",
       "      <td>1</td>\n",
       "      <td>0</td>\n",
       "      <td>2016-01-01</td>\n",
       "      <td>0.0</td>\n",
       "      <td>0</td>\n",
       "      <td>Education</td>\n",
       "      <td>160</td>\n",
       "      <td>2004.0</td>\n",
       "      <td>NaN</td>\n",
       "      <td>25.0</td>\n",
       "      <td>6.0</td>\n",
       "      <td>20.0</td>\n",
       "      <td>NaN</td>\n",
       "      <td>1019.7</td>\n",
       "      <td>0.0</td>\n",
       "      <td>0.0</td>\n",
       "      <td>0</td>\n",
       "      <td>1</td>\n",
       "      <td>1</td>\n",
       "      <td>Friday</td>\n",
       "    </tr>\n",
       "    <tr>\n",
       "      <th>2</th>\n",
       "      <td>2</td>\n",
       "      <td>0</td>\n",
       "      <td>2016-01-01</td>\n",
       "      <td>0.0</td>\n",
       "      <td>0</td>\n",
       "      <td>Education</td>\n",
       "      <td>0</td>\n",
       "      <td>1991.0</td>\n",
       "      <td>NaN</td>\n",
       "      <td>25.0</td>\n",
       "      <td>6.0</td>\n",
       "      <td>20.0</td>\n",
       "      <td>NaN</td>\n",
       "      <td>1019.7</td>\n",
       "      <td>0.0</td>\n",
       "      <td>0.0</td>\n",
       "      <td>0</td>\n",
       "      <td>1</td>\n",
       "      <td>1</td>\n",
       "      <td>Friday</td>\n",
       "    </tr>\n",
       "    <tr>\n",
       "      <th>3</th>\n",
       "      <td>3</td>\n",
       "      <td>0</td>\n",
       "      <td>2016-01-01</td>\n",
       "      <td>0.0</td>\n",
       "      <td>0</td>\n",
       "      <td>Education</td>\n",
       "      <td>133</td>\n",
       "      <td>2002.0</td>\n",
       "      <td>NaN</td>\n",
       "      <td>25.0</td>\n",
       "      <td>6.0</td>\n",
       "      <td>20.0</td>\n",
       "      <td>NaN</td>\n",
       "      <td>1019.7</td>\n",
       "      <td>0.0</td>\n",
       "      <td>0.0</td>\n",
       "      <td>0</td>\n",
       "      <td>1</td>\n",
       "      <td>1</td>\n",
       "      <td>Friday</td>\n",
       "    </tr>\n",
       "    <tr>\n",
       "      <th>4</th>\n",
       "      <td>4</td>\n",
       "      <td>0</td>\n",
       "      <td>2016-01-01</td>\n",
       "      <td>0.0</td>\n",
       "      <td>0</td>\n",
       "      <td>Education</td>\n",
       "      <td>127</td>\n",
       "      <td>1975.0</td>\n",
       "      <td>NaN</td>\n",
       "      <td>25.0</td>\n",
       "      <td>6.0</td>\n",
       "      <td>20.0</td>\n",
       "      <td>NaN</td>\n",
       "      <td>1019.7</td>\n",
       "      <td>0.0</td>\n",
       "      <td>0.0</td>\n",
       "      <td>0</td>\n",
       "      <td>1</td>\n",
       "      <td>1</td>\n",
       "      <td>Friday</td>\n",
       "    </tr>\n",
       "  </tbody>\n",
       "</table>\n",
       "</div>"
      ],
      "text/plain": [
       "   building_id  meter  timestamp  meter_reading  site_id primary_use  \\\n",
       "0            0      0 2016-01-01            0.0        0   Education   \n",
       "1            1      0 2016-01-01            0.0        0   Education   \n",
       "2            2      0 2016-01-01            0.0        0   Education   \n",
       "3            3      0 2016-01-01            0.0        0   Education   \n",
       "4            4      0 2016-01-01            0.0        0   Education   \n",
       "\n",
       "   square_feet  year_built  floor_count  air_temperature  cloud_coverage  \\\n",
       "0            8      2008.0          NaN             25.0             6.0   \n",
       "1          160      2004.0          NaN             25.0             6.0   \n",
       "2            0      1991.0          NaN             25.0             6.0   \n",
       "3          133      2002.0          NaN             25.0             6.0   \n",
       "4          127      1975.0          NaN             25.0             6.0   \n",
       "\n",
       "   dew_temperature  precip_depth_1_hr  sea_level_pressure  wind_direction  \\\n",
       "0             20.0                NaN              1019.7             0.0   \n",
       "1             20.0                NaN              1019.7             0.0   \n",
       "2             20.0                NaN              1019.7             0.0   \n",
       "3             20.0                NaN              1019.7             0.0   \n",
       "4             20.0                NaN              1019.7             0.0   \n",
       "\n",
       "   wind_speed  hour  day  month weekday  \n",
       "0         0.0     0    1      1  Friday  \n",
       "1         0.0     0    1      1  Friday  \n",
       "2         0.0     0    1      1  Friday  \n",
       "3         0.0     0    1      1  Friday  \n",
       "4         0.0     0    1      1  Friday  "
      ]
     },
     "execution_count": 12,
     "metadata": {},
     "output_type": "execute_result"
    }
   ],
   "source": [
    "train_copy.head()"
   ]
  },
  {
   "cell_type": "markdown",
   "metadata": {
    "id": "t6qQtabESq07"
   },
   "source": [
    "# EDA"
   ]
  },
  {
   "cell_type": "code",
   "execution_count": 17,
   "metadata": {
    "colab": {
     "base_uri": "https://localhost:8080/"
    },
    "id": "5ggi0I_JsqjY",
    "outputId": "33fcd2c3-17f6-4e1d-f864-7a5d37ccd4b2"
   },
   "outputs": [
    {
     "data": {
      "text/plain": [
       "[0, 1, 2, 3]"
      ]
     },
     "execution_count": 17,
     "metadata": {
      "tags": []
     },
     "output_type": "execute_result"
    }
   ],
   "source": [
    "''' To see how many types of meter is there in the data set'''\n",
    "sorted(list(train.meter.unique()))"
   ]
  },
  {
   "cell_type": "markdown",
   "metadata": {
    "id": "afnaVxnAU1aR"
   },
   "source": [
    "There are 4 types of meter in the dataset"
   ]
  },
  {
   "cell_type": "code",
   "execution_count": 18,
   "metadata": {
    "colab": {
     "base_uri": "https://localhost:8080/"
    },
    "id": "lAIRFx3r5gBM",
    "outputId": "4ed721eb-296b-4eb2-df42-4be7eedcb960"
   },
   "outputs": [
    {
     "data": {
      "text/plain": [
       "0    12060910\n",
       "1     4182440\n",
       "2     2708713\n",
       "3     1264037\n",
       "Name: meter, dtype: int64"
      ]
     },
     "execution_count": 18,
     "metadata": {
      "tags": []
     },
     "output_type": "execute_result"
    }
   ],
   "source": [
    "''' to see how many data is there for each meter type'''\n",
    "train.meter.value_counts()"
   ]
  },
  {
   "cell_type": "markdown",
   "metadata": {
    "id": "8olHdyvJT03e"
   },
   "source": [
    "From above , we can say there are 12060910 reading for meter type 0 ,4182440 for meter type 1,2708713 for meter type 2 and 1264037 meter type 3."
   ]
  },
  {
   "cell_type": "code",
   "execution_count": 19,
   "metadata": {
    "colab": {
     "base_uri": "https://localhost:8080/"
    },
    "id": "P63DmPUDaNxt",
    "outputId": "9d0a4ca3-0de6-4833-b8dc-2ca37c8cd90e"
   },
   "outputs": [
    {
     "data": {
      "text/plain": [
       "0.0000       1873976\n",
       "20.0000        23363\n",
       "2.9307         23181\n",
       "36.6000        22154\n",
       "8.7921         21787\n",
       "              ...   \n",
       "72.6357            1\n",
       "2977.7000          1\n",
       "55.4186            1\n",
       "2977.4500          1\n",
       "15.3563            1\n",
       "Name: meter_reading, Length: 1688175, dtype: int64"
      ]
     },
     "execution_count": 19,
     "metadata": {
      "tags": []
     },
     "output_type": "execute_result"
    }
   ],
   "source": [
    "''' To see which reading is coming how much time in total data set'''\n",
    "train.meter_reading.value_counts()"
   ]
  },
  {
   "cell_type": "markdown",
   "metadata": {
    "id": "MMwjr5HmTf7F"
   },
   "source": [
    "From the above data we can say 0 reading is coming  1873976 times all over the data."
   ]
  },
  {
   "cell_type": "code",
   "execution_count": 20,
   "metadata": {
    "colab": {
     "base_uri": "https://localhost:8080/"
    },
    "id": "cmKV5avftLb2",
    "outputId": "5a5ffd2d-2c8e-4763-a73a-84ce2e72e794"
   },
   "outputs": [
    {
     "data": {
      "text/plain": [
       "('2016-01-01 00:00:00', '2016-12-31 23:00:00')"
      ]
     },
     "execution_count": 20,
     "metadata": {
      "tags": []
     },
     "output_type": "execute_result"
    }
   ],
   "source": [
    "'''To see the total time period through which data has been collected'''\n",
    "train.timestamp.min(),train.timestamp.max()"
   ]
  },
  {
   "cell_type": "code",
   "execution_count": 13,
   "metadata": {
    "id": "uSZU-JtZ8a04"
   },
   "outputs": [],
   "source": [
    "''' change the meter reading as per meter type'''\n",
    "def meterclass(x):\n",
    "  train_dict = {0:'Electricity',1:'chiledWater',2:'Steam',3:'HotWater'}\n",
    "  return(train_dict[x])"
   ]
  },
  {
   "cell_type": "code",
   "execution_count": 14,
   "metadata": {
    "id": "R7JxcZXZ762P"
   },
   "outputs": [],
   "source": [
    "'''  above change has been done'''\n",
    "\n",
    "train_copy['meter']=train_copy.meter.map(meterclass)"
   ]
  },
  {
   "cell_type": "code",
   "execution_count": 15,
   "metadata": {
    "colab": {
     "base_uri": "https://localhost:8080/",
     "height": 309
    },
    "id": "L8LTHYqWf9NZ",
    "outputId": "fb7f0d38-7d76-4fe8-8a86-2b4d3b54ddc9"
   },
   "outputs": [
    {
     "data": {
      "text/html": [
       "<div>\n",
       "<style scoped>\n",
       "    .dataframe tbody tr th:only-of-type {\n",
       "        vertical-align: middle;\n",
       "    }\n",
       "\n",
       "    .dataframe tbody tr th {\n",
       "        vertical-align: top;\n",
       "    }\n",
       "\n",
       "    .dataframe thead th {\n",
       "        text-align: right;\n",
       "    }\n",
       "</style>\n",
       "<table border=\"1\" class=\"dataframe\">\n",
       "  <thead>\n",
       "    <tr style=\"text-align: right;\">\n",
       "      <th></th>\n",
       "      <th>building_id</th>\n",
       "      <th>meter</th>\n",
       "      <th>timestamp</th>\n",
       "      <th>meter_reading</th>\n",
       "      <th>site_id</th>\n",
       "      <th>primary_use</th>\n",
       "      <th>square_feet</th>\n",
       "      <th>year_built</th>\n",
       "      <th>floor_count</th>\n",
       "      <th>air_temperature</th>\n",
       "      <th>cloud_coverage</th>\n",
       "      <th>dew_temperature</th>\n",
       "      <th>precip_depth_1_hr</th>\n",
       "      <th>sea_level_pressure</th>\n",
       "      <th>wind_direction</th>\n",
       "      <th>wind_speed</th>\n",
       "      <th>hour</th>\n",
       "      <th>day</th>\n",
       "      <th>month</th>\n",
       "      <th>weekday</th>\n",
       "    </tr>\n",
       "  </thead>\n",
       "  <tbody>\n",
       "    <tr>\n",
       "      <th>0</th>\n",
       "      <td>0</td>\n",
       "      <td>Electricity</td>\n",
       "      <td>2016-01-01</td>\n",
       "      <td>0.0</td>\n",
       "      <td>0</td>\n",
       "      <td>Education</td>\n",
       "      <td>8</td>\n",
       "      <td>2008.0</td>\n",
       "      <td>NaN</td>\n",
       "      <td>25.0</td>\n",
       "      <td>6.0</td>\n",
       "      <td>20.0</td>\n",
       "      <td>NaN</td>\n",
       "      <td>1019.7</td>\n",
       "      <td>0.0</td>\n",
       "      <td>0.0</td>\n",
       "      <td>0</td>\n",
       "      <td>1</td>\n",
       "      <td>1</td>\n",
       "      <td>Friday</td>\n",
       "    </tr>\n",
       "    <tr>\n",
       "      <th>1</th>\n",
       "      <td>1</td>\n",
       "      <td>Electricity</td>\n",
       "      <td>2016-01-01</td>\n",
       "      <td>0.0</td>\n",
       "      <td>0</td>\n",
       "      <td>Education</td>\n",
       "      <td>160</td>\n",
       "      <td>2004.0</td>\n",
       "      <td>NaN</td>\n",
       "      <td>25.0</td>\n",
       "      <td>6.0</td>\n",
       "      <td>20.0</td>\n",
       "      <td>NaN</td>\n",
       "      <td>1019.7</td>\n",
       "      <td>0.0</td>\n",
       "      <td>0.0</td>\n",
       "      <td>0</td>\n",
       "      <td>1</td>\n",
       "      <td>1</td>\n",
       "      <td>Friday</td>\n",
       "    </tr>\n",
       "    <tr>\n",
       "      <th>2</th>\n",
       "      <td>2</td>\n",
       "      <td>Electricity</td>\n",
       "      <td>2016-01-01</td>\n",
       "      <td>0.0</td>\n",
       "      <td>0</td>\n",
       "      <td>Education</td>\n",
       "      <td>0</td>\n",
       "      <td>1991.0</td>\n",
       "      <td>NaN</td>\n",
       "      <td>25.0</td>\n",
       "      <td>6.0</td>\n",
       "      <td>20.0</td>\n",
       "      <td>NaN</td>\n",
       "      <td>1019.7</td>\n",
       "      <td>0.0</td>\n",
       "      <td>0.0</td>\n",
       "      <td>0</td>\n",
       "      <td>1</td>\n",
       "      <td>1</td>\n",
       "      <td>Friday</td>\n",
       "    </tr>\n",
       "    <tr>\n",
       "      <th>3</th>\n",
       "      <td>3</td>\n",
       "      <td>Electricity</td>\n",
       "      <td>2016-01-01</td>\n",
       "      <td>0.0</td>\n",
       "      <td>0</td>\n",
       "      <td>Education</td>\n",
       "      <td>133</td>\n",
       "      <td>2002.0</td>\n",
       "      <td>NaN</td>\n",
       "      <td>25.0</td>\n",
       "      <td>6.0</td>\n",
       "      <td>20.0</td>\n",
       "      <td>NaN</td>\n",
       "      <td>1019.7</td>\n",
       "      <td>0.0</td>\n",
       "      <td>0.0</td>\n",
       "      <td>0</td>\n",
       "      <td>1</td>\n",
       "      <td>1</td>\n",
       "      <td>Friday</td>\n",
       "    </tr>\n",
       "    <tr>\n",
       "      <th>4</th>\n",
       "      <td>4</td>\n",
       "      <td>Electricity</td>\n",
       "      <td>2016-01-01</td>\n",
       "      <td>0.0</td>\n",
       "      <td>0</td>\n",
       "      <td>Education</td>\n",
       "      <td>127</td>\n",
       "      <td>1975.0</td>\n",
       "      <td>NaN</td>\n",
       "      <td>25.0</td>\n",
       "      <td>6.0</td>\n",
       "      <td>20.0</td>\n",
       "      <td>NaN</td>\n",
       "      <td>1019.7</td>\n",
       "      <td>0.0</td>\n",
       "      <td>0.0</td>\n",
       "      <td>0</td>\n",
       "      <td>1</td>\n",
       "      <td>1</td>\n",
       "      <td>Friday</td>\n",
       "    </tr>\n",
       "  </tbody>\n",
       "</table>\n",
       "</div>"
      ],
      "text/plain": [
       "   building_id        meter  timestamp  meter_reading  site_id primary_use  \\\n",
       "0            0  Electricity 2016-01-01            0.0        0   Education   \n",
       "1            1  Electricity 2016-01-01            0.0        0   Education   \n",
       "2            2  Electricity 2016-01-01            0.0        0   Education   \n",
       "3            3  Electricity 2016-01-01            0.0        0   Education   \n",
       "4            4  Electricity 2016-01-01            0.0        0   Education   \n",
       "\n",
       "   square_feet  year_built  floor_count  air_temperature  cloud_coverage  \\\n",
       "0            8      2008.0          NaN             25.0             6.0   \n",
       "1          160      2004.0          NaN             25.0             6.0   \n",
       "2            0      1991.0          NaN             25.0             6.0   \n",
       "3          133      2002.0          NaN             25.0             6.0   \n",
       "4          127      1975.0          NaN             25.0             6.0   \n",
       "\n",
       "   dew_temperature  precip_depth_1_hr  sea_level_pressure  wind_direction  \\\n",
       "0             20.0                NaN              1019.7             0.0   \n",
       "1             20.0                NaN              1019.7             0.0   \n",
       "2             20.0                NaN              1019.7             0.0   \n",
       "3             20.0                NaN              1019.7             0.0   \n",
       "4             20.0                NaN              1019.7             0.0   \n",
       "\n",
       "   wind_speed  hour  day  month weekday  \n",
       "0         0.0     0    1      1  Friday  \n",
       "1         0.0     0    1      1  Friday  \n",
       "2         0.0     0    1      1  Friday  \n",
       "3         0.0     0    1      1  Friday  \n",
       "4         0.0     0    1      1  Friday  "
      ]
     },
     "execution_count": 15,
     "metadata": {},
     "output_type": "execute_result"
    }
   ],
   "source": [
    "train_copy.head()"
   ]
  },
  {
   "cell_type": "code",
   "execution_count": 16,
   "metadata": {
    "colab": {
     "base_uri": "https://localhost:8080/"
    },
    "id": "YrsfyXV89Mhg",
    "outputId": "8b3ccac3-fda4-4041-f566-63fa4135d679"
   },
   "outputs": [
    {
     "data": {
      "text/plain": [
       "array(['Electricity', 'HotWater', 'chiledWater', 'Steam'], dtype=object)"
      ]
     },
     "execution_count": 16,
     "metadata": {},
     "output_type": "execute_result"
    }
   ],
   "source": [
    "'''Identifying Unique Meter Type'''\n",
    "train_copy.meter.unique()"
   ]
  },
  {
   "cell_type": "code",
   "execution_count": 25,
   "metadata": {
    "colab": {
     "base_uri": "https://localhost:8080/",
     "height": 562
    },
    "id": "A39TvRYW6FZJ",
    "outputId": "e4532e40-e311-4adb-e2aa-8369da19bc88"
   },
   "outputs": [
    {
     "data": {
      "image/png": "[encoded data removed]",
      "text/plain": [
       "<Figure size 720x576 with 1 Axes>"
      ]
     },
     "metadata": {
      "needs_background": "light",
      "tags": []
     },
     "output_type": "display_data"
    }
   ],
   "source": [
    "''' To see the reading has been taken most frequently to which meter'''\n",
    "plt.rcParams['figure.figsize']=(10,8)\n",
    "train_copy.meter.value_counts().sort_values(ascending=True).plot(kind='bar',alpha=0.9,color=plt.cm.Paired(np.arange(len(train_copy.meter.unique()))))\n",
    "plt.xlabel('METER')\n",
    "plt.ylabel('COUNT')\n",
    "plt.title('FREQUENT METER TYPE MEASURED')\n",
    "plt.show()"
   ]
  },
  {
   "cell_type": "markdown",
   "metadata": {
    "id": "kNyQb-SAWMx9"
   },
   "source": [
    "From the above graph we can conclude the meter reading has been taken most frequently from Electricity meter type. Very less reading has been taken from Hotwater meter type"
   ]
  },
  {
   "cell_type": "code",
   "execution_count": 26,
   "metadata": {
    "colab": {
     "base_uri": "https://localhost:8080/",
     "height": 562
    },
    "id": "F0DR8131_B1V",
    "outputId": "8f274700-dba5-4715-f557-71a6ba82110c"
   },
   "outputs": [
    {
     "data": {
      "image/png": "[encoded data removed]",
      "text/plain": [
       "<Figure size 720x576 with 1 Axes>"
      ]
     },
     "metadata": {
      "needs_background": "light",
      "tags": []
     },
     "output_type": "display_data"
    }
   ],
   "source": [
    "''' to see the total energy consumption per meter type'''\n",
    "train_copy.groupby('meter')['meter_reading'].sum().sort_values(ascending = False).plot(kind='bar',alpha=0.9,color=plt.cm.Paired(np.arange(len(train.meter.unique()))))\n",
    "plt.xlabel('METER TYPE')\n",
    "plt.ylabel('ENERGY CONSUMPTION')\n",
    "plt.title('ENERGY CONSUMPTION FOR EACH METER TYPE')\n",
    "plt.show()"
   ]
  },
  {
   "cell_type": "markdown",
   "metadata": {
    "id": "narH15KveT8L"
   },
   "source": [
    "From the above graph we can conclude, maximum energy consumption has been done due to steam and very less energy consumed for hotwater. The total energy consumption due te chiiled water and electricy is very close. "
   ]
  },
  {
   "cell_type": "code",
   "execution_count": 17,
   "metadata": {
    "colab": {
     "base_uri": "https://localhost:8080/"
    },
    "id": "iZR8RraWZfsL",
    "outputId": "3e20526e-ac9c-41f3-f81e-3dbc879dfcfb"
   },
   "outputs": [
    {
     "data": {
      "text/plain": [
       "weekday\n",
       "Wednesday    2485.819959\n",
       "Tuesday      2267.786315\n",
       "Thursday     2263.206170\n",
       "Friday       2151.439219\n",
       "Monday       1967.816997\n",
       "Saturday     1865.434390\n",
       "Sunday       1820.957143\n",
       "Name: meter_reading, dtype: float64"
      ]
     },
     "execution_count": 17,
     "metadata": {},
     "output_type": "execute_result"
    }
   ],
   "source": [
    "''' mean meter reading through out the week'''\n",
    "train_copy.groupby('weekday')['meter_reading'].mean().sort_values(ascending = False)"
   ]
  },
  {
   "cell_type": "code",
   "execution_count": 34,
   "metadata": {
    "colab": {
     "base_uri": "https://localhost:8080/",
     "height": 561
    },
    "id": "gdG7vPCikDmc",
    "outputId": "5c947905-b8ee-49c0-bc8f-4fe1f7b44592"
   },
   "outputs": [
    {
     "data": {
      "image/png": "[encoded data removed]",
      "text/plain": [
       "<Figure size 1080x576 with 1 Axes>"
      ]
     },
     "metadata": {
      "needs_background": "light",
      "tags": []
     },
     "output_type": "display_data"
    }
   ],
   "source": [
    "''' to see the energy consumption per day '''\n",
    "plt.rcParams['figure.figsize']=(15,8)\n",
    "train_copy.groupby('weekday')['meter_reading'].mean().sort_values(ascending = False).plot(kind='bar',alpha=0.7,color=plt.cm.Paired(np.arange(len(train_copy.weekday.unique()))))\n",
    "plt.title('MEAN  ENERGY CONSUMPTION PER DAY')\n",
    "plt.xlabel('DAY')\n",
    "plt.ylabel('MEAN METER READING')\n",
    "plt.show()"
   ]
  },
  {
   "cell_type": "markdown",
   "metadata": {
    "id": "Qh2laUwzkQN2"
   },
   "source": [
    "This graph is showing mean meter reading distribution through out the week. Here we can see max energy consumption has happened in the middle of the week (Wednesday,Tuesday,Thursday). In weekend, the energy consumption is very less."
   ]
  },
  {
   "cell_type": "code",
   "execution_count": 36,
   "metadata": {
    "colab": {
     "base_uri": "https://localhost:8080/",
     "height": 513
    },
    "id": "qgMf6KnudUMq",
    "outputId": "c2ac0e78-8e39-4c07-ce49-252f595205a0"
   },
   "outputs": [
    {
     "data": {
      "image/png": "[encoded data removed]",
      "text/plain": [
       "<Figure size 1080x576 with 1 Axes>"
      ]
     },
     "metadata": {
      "needs_background": "light",
      "tags": []
     },
     "output_type": "display_data"
    }
   ],
   "source": [
    "'''energy distribution for each hour in a day'''\n",
    "plt.plot(train_copy.groupby('hour')['meter_reading'].mean(),color='green',linestyle='--')\n",
    "plt.xlabel('HOUR')\n",
    "plt.ylabel('MEAN ENERGY CONSUMPION')\n",
    "plt.title('HOURLY ENERGY CONSUMPION MEAN')\n",
    "plt.show()"
   ]
  },
  {
   "cell_type": "markdown",
   "metadata": {
    "id": "gbXOZt6KlxMe"
   },
   "source": [
    "This graph is basically showing the energy consumption through out the day. From here we can colclude, maximum energy consumption has happend in the middile of the day"
   ]
  },
  {
   "cell_type": "code",
   "execution_count": 37,
   "metadata": {
    "colab": {
     "base_uri": "https://localhost:8080/"
    },
    "id": "pPuGxTUPiF5N",
    "outputId": "fcf09285-e4f6-4401-a07e-41abb2333ba1"
   },
   "outputs": [
    {
     "data": {
      "text/plain": [
       "array([ 1,  2,  3,  4,  5,  6,  7,  8,  9, 10, 11, 12], dtype=uint8)"
      ]
     },
     "execution_count": 37,
     "metadata": {
      "tags": []
     },
     "output_type": "execute_result"
    }
   ],
   "source": [
    "train_copy['month'].unique()"
   ]
  },
  {
   "cell_type": "code",
   "execution_count": 18,
   "metadata": {
    "colab": {
     "base_uri": "https://localhost:8080/",
     "height": 309
    },
    "id": "vyZlbvobiMeh",
    "outputId": "d9ac5630-d747-4bb9-aeed-7c28ec52705d"
   },
   "outputs": [
    {
     "data": {
      "text/html": [
       "<div>\n",
       "<style scoped>\n",
       "    .dataframe tbody tr th:only-of-type {\n",
       "        vertical-align: middle;\n",
       "    }\n",
       "\n",
       "    .dataframe tbody tr th {\n",
       "        vertical-align: top;\n",
       "    }\n",
       "\n",
       "    .dataframe thead th {\n",
       "        text-align: right;\n",
       "    }\n",
       "</style>\n",
       "<table border=\"1\" class=\"dataframe\">\n",
       "  <thead>\n",
       "    <tr style=\"text-align: right;\">\n",
       "      <th></th>\n",
       "      <th>building_id</th>\n",
       "      <th>meter</th>\n",
       "      <th>timestamp</th>\n",
       "      <th>meter_reading</th>\n",
       "      <th>site_id</th>\n",
       "      <th>primary_use</th>\n",
       "      <th>square_feet</th>\n",
       "      <th>year_built</th>\n",
       "      <th>floor_count</th>\n",
       "      <th>air_temperature</th>\n",
       "      <th>cloud_coverage</th>\n",
       "      <th>dew_temperature</th>\n",
       "      <th>precip_depth_1_hr</th>\n",
       "      <th>sea_level_pressure</th>\n",
       "      <th>wind_direction</th>\n",
       "      <th>wind_speed</th>\n",
       "      <th>hour</th>\n",
       "      <th>day</th>\n",
       "      <th>month</th>\n",
       "      <th>weekday</th>\n",
       "    </tr>\n",
       "  </thead>\n",
       "  <tbody>\n",
       "    <tr>\n",
       "      <th>0</th>\n",
       "      <td>0</td>\n",
       "      <td>Electricity</td>\n",
       "      <td>2016-01-01</td>\n",
       "      <td>0.0</td>\n",
       "      <td>0</td>\n",
       "      <td>Education</td>\n",
       "      <td>8</td>\n",
       "      <td>2008.0</td>\n",
       "      <td>NaN</td>\n",
       "      <td>25.0</td>\n",
       "      <td>6.0</td>\n",
       "      <td>20.0</td>\n",
       "      <td>NaN</td>\n",
       "      <td>1019.7</td>\n",
       "      <td>0.0</td>\n",
       "      <td>0.0</td>\n",
       "      <td>0</td>\n",
       "      <td>1</td>\n",
       "      <td>Jan</td>\n",
       "      <td>Friday</td>\n",
       "    </tr>\n",
       "    <tr>\n",
       "      <th>1</th>\n",
       "      <td>1</td>\n",
       "      <td>Electricity</td>\n",
       "      <td>2016-01-01</td>\n",
       "      <td>0.0</td>\n",
       "      <td>0</td>\n",
       "      <td>Education</td>\n",
       "      <td>160</td>\n",
       "      <td>2004.0</td>\n",
       "      <td>NaN</td>\n",
       "      <td>25.0</td>\n",
       "      <td>6.0</td>\n",
       "      <td>20.0</td>\n",
       "      <td>NaN</td>\n",
       "      <td>1019.7</td>\n",
       "      <td>0.0</td>\n",
       "      <td>0.0</td>\n",
       "      <td>0</td>\n",
       "      <td>1</td>\n",
       "      <td>Jan</td>\n",
       "      <td>Friday</td>\n",
       "    </tr>\n",
       "    <tr>\n",
       "      <th>2</th>\n",
       "      <td>2</td>\n",
       "      <td>Electricity</td>\n",
       "      <td>2016-01-01</td>\n",
       "      <td>0.0</td>\n",
       "      <td>0</td>\n",
       "      <td>Education</td>\n",
       "      <td>0</td>\n",
       "      <td>1991.0</td>\n",
       "      <td>NaN</td>\n",
       "      <td>25.0</td>\n",
       "      <td>6.0</td>\n",
       "      <td>20.0</td>\n",
       "      <td>NaN</td>\n",
       "      <td>1019.7</td>\n",
       "      <td>0.0</td>\n",
       "      <td>0.0</td>\n",
       "      <td>0</td>\n",
       "      <td>1</td>\n",
       "      <td>Jan</td>\n",
       "      <td>Friday</td>\n",
       "    </tr>\n",
       "    <tr>\n",
       "      <th>3</th>\n",
       "      <td>3</td>\n",
       "      <td>Electricity</td>\n",
       "      <td>2016-01-01</td>\n",
       "      <td>0.0</td>\n",
       "      <td>0</td>\n",
       "      <td>Education</td>\n",
       "      <td>133</td>\n",
       "      <td>2002.0</td>\n",
       "      <td>NaN</td>\n",
       "      <td>25.0</td>\n",
       "      <td>6.0</td>\n",
       "      <td>20.0</td>\n",
       "      <td>NaN</td>\n",
       "      <td>1019.7</td>\n",
       "      <td>0.0</td>\n",
       "      <td>0.0</td>\n",
       "      <td>0</td>\n",
       "      <td>1</td>\n",
       "      <td>Jan</td>\n",
       "      <td>Friday</td>\n",
       "    </tr>\n",
       "    <tr>\n",
       "      <th>4</th>\n",
       "      <td>4</td>\n",
       "      <td>Electricity</td>\n",
       "      <td>2016-01-01</td>\n",
       "      <td>0.0</td>\n",
       "      <td>0</td>\n",
       "      <td>Education</td>\n",
       "      <td>127</td>\n",
       "      <td>1975.0</td>\n",
       "      <td>NaN</td>\n",
       "      <td>25.0</td>\n",
       "      <td>6.0</td>\n",
       "      <td>20.0</td>\n",
       "      <td>NaN</td>\n",
       "      <td>1019.7</td>\n",
       "      <td>0.0</td>\n",
       "      <td>0.0</td>\n",
       "      <td>0</td>\n",
       "      <td>1</td>\n",
       "      <td>Jan</td>\n",
       "      <td>Friday</td>\n",
       "    </tr>\n",
       "  </tbody>\n",
       "</table>\n",
       "</div>"
      ],
      "text/plain": [
       "   building_id        meter  timestamp  meter_reading  site_id primary_use  \\\n",
       "0            0  Electricity 2016-01-01            0.0        0   Education   \n",
       "1            1  Electricity 2016-01-01            0.0        0   Education   \n",
       "2            2  Electricity 2016-01-01            0.0        0   Education   \n",
       "3            3  Electricity 2016-01-01            0.0        0   Education   \n",
       "4            4  Electricity 2016-01-01            0.0        0   Education   \n",
       "\n",
       "   square_feet  year_built  floor_count  air_temperature  cloud_coverage  \\\n",
       "0            8      2008.0          NaN             25.0             6.0   \n",
       "1          160      2004.0          NaN             25.0             6.0   \n",
       "2            0      1991.0          NaN             25.0             6.0   \n",
       "3          133      2002.0          NaN             25.0             6.0   \n",
       "4          127      1975.0          NaN             25.0             6.0   \n",
       "\n",
       "   dew_temperature  precip_depth_1_hr  sea_level_pressure  wind_direction  \\\n",
       "0             20.0                NaN              1019.7             0.0   \n",
       "1             20.0                NaN              1019.7             0.0   \n",
       "2             20.0                NaN              1019.7             0.0   \n",
       "3             20.0                NaN              1019.7             0.0   \n",
       "4             20.0                NaN              1019.7             0.0   \n",
       "\n",
       "   wind_speed  hour  day month weekday  \n",
       "0         0.0     0    1   Jan  Friday  \n",
       "1         0.0     0    1   Jan  Friday  \n",
       "2         0.0     0    1   Jan  Friday  \n",
       "3         0.0     0    1   Jan  Friday  \n",
       "4         0.0     0    1   Jan  Friday  "
      ]
     },
     "execution_count": 18,
     "metadata": {},
     "output_type": "execute_result"
    }
   ],
   "source": [
    "''' replace the month type with the month name'''\n",
    "month={1:'Jan',2:'Feb',3:'March',4:'April',5:'May',6:'June',7:'July',8:'Aug',9:'Sept',10:'Oct',11:'Nov',12:'Dec'}\n",
    "train_copy['month']=train_copy['month'].map(month)\n",
    "train_copy.head()"
   ]
  },
  {
   "cell_type": "code",
   "execution_count": 39,
   "metadata": {
    "colab": {
     "base_uri": "https://localhost:8080/"
    },
    "id": "ubYD06z9k-xu",
    "outputId": "60acc06a-4927-4ada-850b-6b2759a3f840"
   },
   "outputs": [
    {
     "data": {
      "text/plain": [
       "month\n",
       "April    5566.060718\n",
       "Aug       480.156512\n",
       "Dec       530.556852\n",
       "Feb      1208.032126\n",
       "Jan      1150.157976\n",
       "July      459.943558\n",
       "June     4152.447422\n",
       "March    4897.649796\n",
       "May      5183.869585\n",
       "Nov       850.654497\n",
       "Oct       470.613136\n",
       "Sept      633.044311\n",
       "Name: meter_reading, dtype: float64"
      ]
     },
     "execution_count": 39,
     "metadata": {
      "tags": []
     },
     "output_type": "execute_result"
    }
   ],
   "source": [
    "''' Mean energy consumption per month'''\n",
    "train_copy.groupby('month')['meter_reading'].mean()"
   ]
  },
  {
   "cell_type": "code",
   "execution_count": 40,
   "metadata": {
    "colab": {
     "base_uri": "https://localhost:8080/",
     "height": 513
    },
    "id": "YJYhoQpajxGE",
    "outputId": "cc97a6ff-726a-4175-fe91-bf929df5f98d"
   },
   "outputs": [
    {
     "data": {
      "image/png": "[encoded data removed]",
      "text/plain": [
       "<Figure size 1080x576 with 1 Axes>"
      ]
     },
     "metadata": {
      "needs_background": "light",
      "tags": []
     },
     "output_type": "display_data"
    }
   ],
   "source": [
    "plt.plot(train_copy.groupby('month')['meter_reading'].mean(),color='green',linestyle='--')\n",
    "plt.xlabel('MONTH')\n",
    "plt.ylabel('MEAN ENERGY CONSUMPION')\n",
    "plt.title('MONTHLY ENERGY CONSUMPION MEAN')\n",
    "plt.show()"
   ]
  },
  {
   "cell_type": "markdown",
   "metadata": {
    "id": "vSX9oya3nq9x"
   },
   "source": [
    "From here we can see that the max energy consumption has happend in between April to july"
   ]
  },
  {
   "cell_type": "code",
   "execution_count": 41,
   "metadata": {
    "id": "H7nu-XgQsKhK"
   },
   "outputs": [],
   "source": [
    "value = train_copy.groupby(['meter','month'])['meter_reading'].mean()"
   ]
  },
  {
   "cell_type": "code",
   "execution_count": 42,
   "metadata": {
    "colab": {
     "base_uri": "https://localhost:8080/",
     "height": 145
    },
    "id": "CUQgOIso26TB",
    "outputId": "ab2e2634-f563-4262-b0c1-3414e5453608"
   },
   "outputs": [
    {
     "data": {
      "text/html": [
       "<style  type=\"text/css\" >\n",
       "#T_610f6eb4_7cad_11eb_8cfb_0242ac1c0002row0_col0,#T_610f6eb4_7cad_11eb_8cfb_0242ac1c0002row0_col1,#T_610f6eb4_7cad_11eb_8cfb_0242ac1c0002row0_col2,#T_610f6eb4_7cad_11eb_8cfb_0242ac1c0002row0_col3,#T_610f6eb4_7cad_11eb_8cfb_0242ac1c0002row0_col4,#T_610f6eb4_7cad_11eb_8cfb_0242ac1c0002row0_col5,#T_610f6eb4_7cad_11eb_8cfb_0242ac1c0002row0_col6,#T_610f6eb4_7cad_11eb_8cfb_0242ac1c0002row0_col7,#T_610f6eb4_7cad_11eb_8cfb_0242ac1c0002row0_col8,#T_610f6eb4_7cad_11eb_8cfb_0242ac1c0002row0_col9,#T_610f6eb4_7cad_11eb_8cfb_0242ac1c0002row0_col10,#T_610f6eb4_7cad_11eb_8cfb_0242ac1c0002row0_col11,#T_610f6eb4_7cad_11eb_8cfb_0242ac1c0002row1_col5,#T_610f6eb4_7cad_11eb_8cfb_0242ac1c0002row1_col6,#T_610f6eb4_7cad_11eb_8cfb_0242ac1c0002row1_col8,#T_610f6eb4_7cad_11eb_8cfb_0242ac1c0002row1_col10,#T_610f6eb4_7cad_11eb_8cfb_0242ac1c0002row1_col11,#T_610f6eb4_7cad_11eb_8cfb_0242ac1c0002row3_col2,#T_610f6eb4_7cad_11eb_8cfb_0242ac1c0002row3_col3,#T_610f6eb4_7cad_11eb_8cfb_0242ac1c0002row3_col4{\n",
       "            background-color:  #fff7fb;\n",
       "            color:  #000000;\n",
       "        }#T_610f6eb4_7cad_11eb_8cfb_0242ac1c0002row1_col0,#T_610f6eb4_7cad_11eb_8cfb_0242ac1c0002row1_col1,#T_610f6eb4_7cad_11eb_8cfb_0242ac1c0002row3_col0,#T_610f6eb4_7cad_11eb_8cfb_0242ac1c0002row3_col7,#T_610f6eb4_7cad_11eb_8cfb_0242ac1c0002row3_col9{\n",
       "            background-color:  #fef6fb;\n",
       "            color:  #000000;\n",
       "        }#T_610f6eb4_7cad_11eb_8cfb_0242ac1c0002row1_col2,#T_610f6eb4_7cad_11eb_8cfb_0242ac1c0002row1_col4,#T_610f6eb4_7cad_11eb_8cfb_0242ac1c0002row3_col5,#T_610f6eb4_7cad_11eb_8cfb_0242ac1c0002row3_col6,#T_610f6eb4_7cad_11eb_8cfb_0242ac1c0002row3_col10{\n",
       "            background-color:  #fdf5fa;\n",
       "            color:  #000000;\n",
       "        }#T_610f6eb4_7cad_11eb_8cfb_0242ac1c0002row1_col3,#T_610f6eb4_7cad_11eb_8cfb_0242ac1c0002row1_col7,#T_610f6eb4_7cad_11eb_8cfb_0242ac1c0002row1_col9,#T_610f6eb4_7cad_11eb_8cfb_0242ac1c0002row3_col8{\n",
       "            background-color:  #fef6fa;\n",
       "            color:  #000000;\n",
       "        }#T_610f6eb4_7cad_11eb_8cfb_0242ac1c0002row2_col0{\n",
       "            background-color:  #023858;\n",
       "            color:  #f1f1f1;\n",
       "        }#T_610f6eb4_7cad_11eb_8cfb_0242ac1c0002row2_col1,#T_610f6eb4_7cad_11eb_8cfb_0242ac1c0002row2_col10{\n",
       "            background-color:  #fbf4f9;\n",
       "            color:  #000000;\n",
       "        }#T_610f6eb4_7cad_11eb_8cfb_0242ac1c0002row2_col2{\n",
       "            background-color:  #f7f0f7;\n",
       "            color:  #000000;\n",
       "        }#T_610f6eb4_7cad_11eb_8cfb_0242ac1c0002row2_col3{\n",
       "            background-color:  #dbdaeb;\n",
       "            color:  #000000;\n",
       "        }#T_610f6eb4_7cad_11eb_8cfb_0242ac1c0002row2_col4{\n",
       "            background-color:  #e0deed;\n",
       "            color:  #000000;\n",
       "        }#T_610f6eb4_7cad_11eb_8cfb_0242ac1c0002row2_col5,#T_610f6eb4_7cad_11eb_8cfb_0242ac1c0002row2_col11,#T_610f6eb4_7cad_11eb_8cfb_0242ac1c0002row3_col1{\n",
       "            background-color:  #fcf4fa;\n",
       "            color:  #000000;\n",
       "        }#T_610f6eb4_7cad_11eb_8cfb_0242ac1c0002row2_col6{\n",
       "            background-color:  #1278b4;\n",
       "            color:  #f1f1f1;\n",
       "        }#T_610f6eb4_7cad_11eb_8cfb_0242ac1c0002row2_col7{\n",
       "            background-color:  #023e62;\n",
       "            color:  #f1f1f1;\n",
       "        }#T_610f6eb4_7cad_11eb_8cfb_0242ac1c0002row2_col8{\n",
       "            background-color:  #034e7b;\n",
       "            color:  #f1f1f1;\n",
       "        }#T_610f6eb4_7cad_11eb_8cfb_0242ac1c0002row2_col9{\n",
       "            background-color:  #eee8f3;\n",
       "            color:  #000000;\n",
       "        }#T_610f6eb4_7cad_11eb_8cfb_0242ac1c0002row3_col11{\n",
       "            background-color:  #f9f2f8;\n",
       "            color:  #000000;\n",
       "        }</style><table id=\"T_610f6eb4_7cad_11eb_8cfb_0242ac1c0002\" ><thead>    <tr>        <th class=\"index_name level0\" >month</th>        <th class=\"col_heading level0 col0\" >April</th>        <th class=\"col_heading level0 col1\" >Aug</th>        <th class=\"col_heading level0 col2\" >Dec</th>        <th class=\"col_heading level0 col3\" >Feb</th>        <th class=\"col_heading level0 col4\" >Jan</th>        <th class=\"col_heading level0 col5\" >July</th>        <th class=\"col_heading level0 col6\" >June</th>        <th class=\"col_heading level0 col7\" >March</th>        <th class=\"col_heading level0 col8\" >May</th>        <th class=\"col_heading level0 col9\" >Nov</th>        <th class=\"col_heading level0 col10\" >Oct</th>        <th class=\"col_heading level0 col11\" >Sept</th>    </tr>    <tr>        <th class=\"index_name level0\" >meter</th>        <th class=\"blank\" ></th>        <th class=\"blank\" ></th>        <th class=\"blank\" ></th>        <th class=\"blank\" ></th>        <th class=\"blank\" ></th>        <th class=\"blank\" ></th>        <th class=\"blank\" ></th>        <th class=\"blank\" ></th>        <th class=\"blank\" ></th>        <th class=\"blank\" ></th>        <th class=\"blank\" ></th>        <th class=\"blank\" ></th>    </tr></thead><tbody>\n",
       "                <tr>\n",
       "                        <th id=\"T_610f6eb4_7cad_11eb_8cfb_0242ac1c0002level0_row0\" class=\"row_heading level0 row0\" >Electricity</th>\n",
       "                        <td id=\"T_610f6eb4_7cad_11eb_8cfb_0242ac1c0002row0_col0\" class=\"data row0 col0\" >148.438191</td>\n",
       "                        <td id=\"T_610f6eb4_7cad_11eb_8cfb_0242ac1c0002row0_col1\" class=\"data row0 col1\" >194.161618</td>\n",
       "                        <td id=\"T_610f6eb4_7cad_11eb_8cfb_0242ac1c0002row0_col2\" class=\"data row0 col2\" >174.737324</td>\n",
       "                        <td id=\"T_610f6eb4_7cad_11eb_8cfb_0242ac1c0002row0_col3\" class=\"data row0 col3\" >154.980076</td>\n",
       "                        <td id=\"T_610f6eb4_7cad_11eb_8cfb_0242ac1c0002row0_col4\" class=\"data row0 col4\" >149.312766</td>\n",
       "                        <td id=\"T_610f6eb4_7cad_11eb_8cfb_0242ac1c0002row0_col5\" class=\"data row0 col5\" >189.002368</td>\n",
       "                        <td id=\"T_610f6eb4_7cad_11eb_8cfb_0242ac1c0002row0_col6\" class=\"data row0 col6\" >183.959088</td>\n",
       "                        <td id=\"T_610f6eb4_7cad_11eb_8cfb_0242ac1c0002row0_col7\" class=\"data row0 col7\" >149.326638</td>\n",
       "                        <td id=\"T_610f6eb4_7cad_11eb_8cfb_0242ac1c0002row0_col8\" class=\"data row0 col8\" >157.954128</td>\n",
       "                        <td id=\"T_610f6eb4_7cad_11eb_8cfb_0242ac1c0002row0_col9\" class=\"data row0 col9\" >178.842169</td>\n",
       "                        <td id=\"T_610f6eb4_7cad_11eb_8cfb_0242ac1c0002row0_col10\" class=\"data row0 col10\" >173.337571</td>\n",
       "                        <td id=\"T_610f6eb4_7cad_11eb_8cfb_0242ac1c0002row0_col11\" class=\"data row0 col11\" >193.295745</td>\n",
       "            </tr>\n",
       "            <tr>\n",
       "                        <th id=\"T_610f6eb4_7cad_11eb_8cfb_0242ac1c0002level0_row1\" class=\"row_heading level0 row1\" >HotWater</th>\n",
       "                        <td id=\"T_610f6eb4_7cad_11eb_8cfb_0242ac1c0002row1_col0\" class=\"data row1 col0\" >323.658785</td>\n",
       "                        <td id=\"T_610f6eb4_7cad_11eb_8cfb_0242ac1c0002row1_col1\" class=\"data row1 col1\" >327.359250</td>\n",
       "                        <td id=\"T_610f6eb4_7cad_11eb_8cfb_0242ac1c0002row1_col2\" class=\"data row1 col2\" >638.186422</td>\n",
       "                        <td id=\"T_610f6eb4_7cad_11eb_8cfb_0242ac1c0002row1_col3\" class=\"data row1 col3\" >559.868475</td>\n",
       "                        <td id=\"T_610f6eb4_7cad_11eb_8cfb_0242ac1c0002row1_col4\" class=\"data row1 col4\" >648.937770</td>\n",
       "                        <td id=\"T_610f6eb4_7cad_11eb_8cfb_0242ac1c0002row1_col5\" class=\"data row1 col5\" >261.029112</td>\n",
       "                        <td id=\"T_610f6eb4_7cad_11eb_8cfb_0242ac1c0002row1_col6\" class=\"data row1 col6\" >159.806360</td>\n",
       "                        <td id=\"T_610f6eb4_7cad_11eb_8cfb_0242ac1c0002row1_col7\" class=\"data row1 col7\" >465.095970</td>\n",
       "                        <td id=\"T_610f6eb4_7cad_11eb_8cfb_0242ac1c0002row1_col8\" class=\"data row1 col8\" >208.826512</td>\n",
       "                        <td id=\"T_610f6eb4_7cad_11eb_8cfb_0242ac1c0002row1_col9\" class=\"data row1 col9\" >513.341956</td>\n",
       "                        <td id=\"T_610f6eb4_7cad_11eb_8cfb_0242ac1c0002row1_col10\" class=\"data row1 col10\" >273.955805</td>\n",
       "                        <td id=\"T_610f6eb4_7cad_11eb_8cfb_0242ac1c0002row1_col11\" class=\"data row1 col11\" >254.684442</td>\n",
       "            </tr>\n",
       "            <tr>\n",
       "                        <th id=\"T_610f6eb4_7cad_11eb_8cfb_0242ac1c0002level0_row2\" class=\"row_heading level0 row2\" >Steam</th>\n",
       "                        <td id=\"T_610f6eb4_7cad_11eb_8cfb_0242ac1c0002row2_col0\" class=\"data row2 col0\" >39994.506565</td>\n",
       "                        <td id=\"T_610f6eb4_7cad_11eb_8cfb_0242ac1c0002row2_col1\" class=\"data row2 col1\" >1095.298210</td>\n",
       "                        <td id=\"T_610f6eb4_7cad_11eb_8cfb_0242ac1c0002row2_col2\" class=\"data row2 col2\" >2440.218800</td>\n",
       "                        <td id=\"T_610f6eb4_7cad_11eb_8cfb_0242ac1c0002row2_col3\" class=\"data row2 col3\" >8164.749524</td>\n",
       "                        <td id=\"T_610f6eb4_7cad_11eb_8cfb_0242ac1c0002row2_col4\" class=\"data row2 col4\" >7254.359339</td>\n",
       "                        <td id=\"T_610f6eb4_7cad_11eb_8cfb_0242ac1c0002row2_col5\" class=\"data row2 col5\" >1056.987518</td>\n",
       "                        <td id=\"T_610f6eb4_7cad_11eb_8cfb_0242ac1c0002row2_col6\" class=\"data row2 col6\" >28641.533130</td>\n",
       "                        <td id=\"T_610f6eb4_7cad_11eb_8cfb_0242ac1c0002row2_col7\" class=\"data row2 col7\" >39060.414346</td>\n",
       "                        <td id=\"T_610f6eb4_7cad_11eb_8cfb_0242ac1c0002row2_col8\" class=\"data row2 col8\" >36696.150873</td>\n",
       "                        <td id=\"T_610f6eb4_7cad_11eb_8cfb_0242ac1c0002row2_col9\" class=\"data row2 col9\" >4713.506507</td>\n",
       "                        <td id=\"T_610f6eb4_7cad_11eb_8cfb_0242ac1c0002row2_col10\" class=\"data row2 col10\" >1232.801978</td>\n",
       "                        <td id=\"T_610f6eb4_7cad_11eb_8cfb_0242ac1c0002row2_col11\" class=\"data row2 col11\" >1002.112655</td>\n",
       "            </tr>\n",
       "            <tr>\n",
       "                        <th id=\"T_610f6eb4_7cad_11eb_8cfb_0242ac1c0002level0_row3\" class=\"row_heading level0 row3\" >chiledWater</th>\n",
       "                        <td id=\"T_610f6eb4_7cad_11eb_8cfb_0242ac1c0002row3_col0\" class=\"data row3 col0\" >388.607063</td>\n",
       "                        <td id=\"T_610f6eb4_7cad_11eb_8cfb_0242ac1c0002row3_col1\" class=\"data row3 col1\" >943.695699</td>\n",
       "                        <td id=\"T_610f6eb4_7cad_11eb_8cfb_0242ac1c0002row3_col2\" class=\"data row3 col2\" >281.204491</td>\n",
       "                        <td id=\"T_610f6eb4_7cad_11eb_8cfb_0242ac1c0002row3_col3\" class=\"data row3 col3\" >207.669779</td>\n",
       "                        <td id=\"T_610f6eb4_7cad_11eb_8cfb_0242ac1c0002row3_col4\" class=\"data row3 col4\" >151.190740</td>\n",
       "                        <td id=\"T_610f6eb4_7cad_11eb_8cfb_0242ac1c0002row3_col5\" class=\"data row3 col5\" >892.348720</td>\n",
       "                        <td id=\"T_610f6eb4_7cad_11eb_8cfb_0242ac1c0002row3_col6\" class=\"data row3 col6\" >772.162148</td>\n",
       "                        <td id=\"T_610f6eb4_7cad_11eb_8cfb_0242ac1c0002row3_col7\" class=\"data row3 col7\" >366.869270</td>\n",
       "                        <td id=\"T_610f6eb4_7cad_11eb_8cfb_0242ac1c0002row3_col8\" class=\"data row3 col8\" >519.057566</td>\n",
       "                        <td id=\"T_610f6eb4_7cad_11eb_8cfb_0242ac1c0002row3_col9\" class=\"data row3 col9\" >319.104650</td>\n",
       "                        <td id=\"T_610f6eb4_7cad_11eb_8cfb_0242ac1c0002row3_col10\" class=\"data row3 col10\" >878.405629</td>\n",
       "                        <td id=\"T_610f6eb4_7cad_11eb_8cfb_0242ac1c0002row3_col11\" class=\"data row3 col11\" >1760.827199</td>\n",
       "            </tr>\n",
       "    </tbody></table>"
      ],
      "text/plain": [
       "<pandas.io.formats.style.Styler at 0x7fc6cf331b10>"
      ]
     },
     "execution_count": 42,
     "metadata": {
      "tags": []
     },
     "output_type": "execute_result"
    }
   ],
   "source": [
    "'''Mean monthly energy consumption per meter type(electricity,hot water, steam, chilled water)'''\n",
    "value.unstack().style.background_gradient(axis = None)"
   ]
  },
  {
   "cell_type": "code",
   "execution_count": 43,
   "metadata": {
    "colab": {
     "base_uri": "https://localhost:8080/",
     "height": 499
    },
    "id": "5vF2r00S5A40",
    "outputId": "446a0d75-d8c0-49fd-a0a0-f23581a55252"
   },
   "outputs": [
    {
     "data": {
      "image/png": "[encoded data removed]",
      "text/plain": [
       "<Figure size 1080x576 with 4 Axes>"
      ]
     },
     "metadata": {
      "needs_background": "light",
      "tags": []
     },
     "output_type": "display_data"
    }
   ],
   "source": [
    "#plt.figure(1)\n",
    "fig, axs = plt.subplots(2,2)\n",
    "axs[0,0].plot(train_copy[train_copy['meter']=='Electricity'].groupby('month',sort=False)['meter_reading'].mean())\n",
    "axs[0,0].set_title('Electricity')\n",
    "axs[0,1].plot(train_copy[train_copy['meter']=='HotWater'].groupby('month',sort=False)['meter_reading'].mean())\n",
    "axs[0,1].set_title('HotWater')\n",
    "axs[1,0].plot(train_copy[train_copy['meter']=='Steam'].groupby('month',sort=False)['meter_reading'].mean())\n",
    "axs[1,0].set_title('Steam')\n",
    "axs[1,1].plot(train_copy[train_copy['meter']=='chiledWater'].groupby('month',sort=False)['meter_reading'].mean())\n",
    "axs[1,1].set_title('chiledWater')\n",
    "#for ax in axs.flat:\n",
    "#    ax.set(xlabel='MONTH', ylabel='ENERGY CONSUMPTION')\n",
    "plt.show()"
   ]
  },
  {
   "cell_type": "markdown",
   "metadata": {
    "id": "K-pOhwsksY9o"
   },
   "source": [
    "From the above graph we an see mean energy consumption on each month for each different meter type. \n",
    "\n",
    "As we can see max energy consumption due to electricity has happned on the month of June, July, August and Septenber.\n",
    "\n",
    "Max energy consumption due to hot water has happned on the month of December, January, and February.\n",
    "\n",
    "Max energy consumption due to steam has happned on the month of March, April, May and June.\n",
    "\n",
    "Max energy consumption due to chiledwater has happned on the month of Septenber, October."
   ]
  },
  {
   "cell_type": "code",
   "execution_count": 54,
   "metadata": {
    "colab": {
     "base_uri": "https://localhost:8080/",
     "height": 647
    },
    "id": "1VRyamhaFSkd",
    "outputId": "35f17007-2893-4fcd-f759-a07c816a8fa1"
   },
   "outputs": [
    {
     "data": {
      "text/html": [
       "<div>\n",
       "<style scoped>\n",
       "    .dataframe tbody tr th:only-of-type {\n",
       "        vertical-align: middle;\n",
       "    }\n",
       "\n",
       "    .dataframe tbody tr th {\n",
       "        vertical-align: top;\n",
       "    }\n",
       "\n",
       "    .dataframe thead th {\n",
       "        text-align: right;\n",
       "    }\n",
       "</style>\n",
       "<table border=\"1\" class=\"dataframe\">\n",
       "  <thead>\n",
       "    <tr style=\"text-align: right;\">\n",
       "      <th>primary_use</th>\n",
       "      <th>Education</th>\n",
       "      <th>Entertainment/public assembly</th>\n",
       "      <th>Food sales and service</th>\n",
       "      <th>Healthcare</th>\n",
       "      <th>Lodging/residential</th>\n",
       "      <th>Manufacturing/industrial</th>\n",
       "      <th>Office</th>\n",
       "      <th>Other</th>\n",
       "      <th>Parking</th>\n",
       "      <th>Public services</th>\n",
       "      <th>Religious worship</th>\n",
       "      <th>Retail</th>\n",
       "      <th>Services</th>\n",
       "      <th>Technology/science</th>\n",
       "      <th>Utility</th>\n",
       "      <th>Warehouse/storage</th>\n",
       "    </tr>\n",
       "    <tr>\n",
       "      <th>site_id</th>\n",
       "      <th></th>\n",
       "      <th></th>\n",
       "      <th></th>\n",
       "      <th></th>\n",
       "      <th></th>\n",
       "      <th></th>\n",
       "      <th></th>\n",
       "      <th></th>\n",
       "      <th></th>\n",
       "      <th></th>\n",
       "      <th></th>\n",
       "      <th></th>\n",
       "      <th></th>\n",
       "      <th></th>\n",
       "      <th></th>\n",
       "      <th></th>\n",
       "    </tr>\n",
       "  </thead>\n",
       "  <tbody>\n",
       "    <tr>\n",
       "      <th>0</th>\n",
       "      <td>49772099.0</td>\n",
       "      <td>5115856.0</td>\n",
       "      <td>NaN</td>\n",
       "      <td>NaN</td>\n",
       "      <td>40743211.0</td>\n",
       "      <td>NaN</td>\n",
       "      <td>33242998.0</td>\n",
       "      <td>5772249.0</td>\n",
       "      <td>3399408.0</td>\n",
       "      <td>NaN</td>\n",
       "      <td>NaN</td>\n",
       "      <td>9291118.0</td>\n",
       "      <td>NaN</td>\n",
       "      <td>NaN</td>\n",
       "      <td>NaN</td>\n",
       "      <td>NaN</td>\n",
       "    </tr>\n",
       "    <tr>\n",
       "      <th>1</th>\n",
       "      <td>35659834.0</td>\n",
       "      <td>210816.0</td>\n",
       "      <td>NaN</td>\n",
       "      <td>NaN</td>\n",
       "      <td>13694256.0</td>\n",
       "      <td>NaN</td>\n",
       "      <td>19658397.0</td>\n",
       "      <td>NaN</td>\n",
       "      <td>NaN</td>\n",
       "      <td>4707311.0</td>\n",
       "      <td>NaN</td>\n",
       "      <td>NaN</td>\n",
       "      <td>NaN</td>\n",
       "      <td>NaN</td>\n",
       "      <td>NaN</td>\n",
       "      <td>NaN</td>\n",
       "    </tr>\n",
       "    <tr>\n",
       "      <th>2</th>\n",
       "      <td>151147209.0</td>\n",
       "      <td>44229539.0</td>\n",
       "      <td>4259545.0</td>\n",
       "      <td>701800.0</td>\n",
       "      <td>47236649.0</td>\n",
       "      <td>NaN</td>\n",
       "      <td>62803882.0</td>\n",
       "      <td>NaN</td>\n",
       "      <td>3837643.0</td>\n",
       "      <td>15938385.0</td>\n",
       "      <td>816633.0</td>\n",
       "      <td>2951088.0</td>\n",
       "      <td>NaN</td>\n",
       "      <td>NaN</td>\n",
       "      <td>3478068.0</td>\n",
       "      <td>1267124.0</td>\n",
       "    </tr>\n",
       "    <tr>\n",
       "      <th>3</th>\n",
       "      <td>96008798.0</td>\n",
       "      <td>52165520.0</td>\n",
       "      <td>NaN</td>\n",
       "      <td>5864512.0</td>\n",
       "      <td>11131496.0</td>\n",
       "      <td>NaN</td>\n",
       "      <td>25443299.0</td>\n",
       "      <td>3007395.0</td>\n",
       "      <td>1967168.0</td>\n",
       "      <td>101844700.0</td>\n",
       "      <td>140512.0</td>\n",
       "      <td>1018712.0</td>\n",
       "      <td>NaN</td>\n",
       "      <td>NaN</td>\n",
       "      <td>NaN</td>\n",
       "      <td>7042304.0</td>\n",
       "    </tr>\n",
       "    <tr>\n",
       "      <th>4</th>\n",
       "      <td>72798299.0</td>\n",
       "      <td>8907259.0</td>\n",
       "      <td>NaN</td>\n",
       "      <td>NaN</td>\n",
       "      <td>4077122.0</td>\n",
       "      <td>NaN</td>\n",
       "      <td>NaN</td>\n",
       "      <td>NaN</td>\n",
       "      <td>4388762.0</td>\n",
       "      <td>5629823.0</td>\n",
       "      <td>NaN</td>\n",
       "      <td>NaN</td>\n",
       "      <td>NaN</td>\n",
       "      <td>3377517.0</td>\n",
       "      <td>1190000.0</td>\n",
       "      <td>NaN</td>\n",
       "    </tr>\n",
       "    <tr>\n",
       "      <th>5</th>\n",
       "      <td>47741040.0</td>\n",
       "      <td>18525456.0</td>\n",
       "      <td>NaN</td>\n",
       "      <td>342576.0</td>\n",
       "      <td>1449360.0</td>\n",
       "      <td>2380464.0</td>\n",
       "      <td>14739552.0</td>\n",
       "      <td>1203408.0</td>\n",
       "      <td>NaN</td>\n",
       "      <td>5261616.0</td>\n",
       "      <td>NaN</td>\n",
       "      <td>NaN</td>\n",
       "      <td>NaN</td>\n",
       "      <td>NaN</td>\n",
       "      <td>NaN</td>\n",
       "      <td>NaN</td>\n",
       "    </tr>\n",
       "    <tr>\n",
       "      <th>6</th>\n",
       "      <td>36847233.0</td>\n",
       "      <td>6456648.0</td>\n",
       "      <td>NaN</td>\n",
       "      <td>NaN</td>\n",
       "      <td>18772622.0</td>\n",
       "      <td>NaN</td>\n",
       "      <td>23939729.0</td>\n",
       "      <td>NaN</td>\n",
       "      <td>NaN</td>\n",
       "      <td>893280.0</td>\n",
       "      <td>NaN</td>\n",
       "      <td>NaN</td>\n",
       "      <td>NaN</td>\n",
       "      <td>NaN</td>\n",
       "      <td>NaN</td>\n",
       "      <td>NaN</td>\n",
       "    </tr>\n",
       "    <tr>\n",
       "      <th>7</th>\n",
       "      <td>44204648.0</td>\n",
       "      <td>NaN</td>\n",
       "      <td>NaN</td>\n",
       "      <td>NaN</td>\n",
       "      <td>NaN</td>\n",
       "      <td>NaN</td>\n",
       "      <td>NaN</td>\n",
       "      <td>NaN</td>\n",
       "      <td>NaN</td>\n",
       "      <td>NaN</td>\n",
       "      <td>NaN</td>\n",
       "      <td>NaN</td>\n",
       "      <td>NaN</td>\n",
       "      <td>NaN</td>\n",
       "      <td>NaN</td>\n",
       "      <td>NaN</td>\n",
       "    </tr>\n",
       "    <tr>\n",
       "      <th>8</th>\n",
       "      <td>NaN</td>\n",
       "      <td>25722945.0</td>\n",
       "      <td>NaN</td>\n",
       "      <td>NaN</td>\n",
       "      <td>NaN</td>\n",
       "      <td>NaN</td>\n",
       "      <td>6403739.0</td>\n",
       "      <td>10474825.0</td>\n",
       "      <td>NaN</td>\n",
       "      <td>33104551.0</td>\n",
       "      <td>NaN</td>\n",
       "      <td>NaN</td>\n",
       "      <td>NaN</td>\n",
       "      <td>NaN</td>\n",
       "      <td>NaN</td>\n",
       "      <td>188041.0</td>\n",
       "    </tr>\n",
       "    <tr>\n",
       "      <th>9</th>\n",
       "      <td>193850842.0</td>\n",
       "      <td>35052023.0</td>\n",
       "      <td>NaN</td>\n",
       "      <td>NaN</td>\n",
       "      <td>61388220.0</td>\n",
       "      <td>NaN</td>\n",
       "      <td>38746543.0</td>\n",
       "      <td>NaN</td>\n",
       "      <td>NaN</td>\n",
       "      <td>8813777.0</td>\n",
       "      <td>NaN</td>\n",
       "      <td>NaN</td>\n",
       "      <td>7186738.0</td>\n",
       "      <td>NaN</td>\n",
       "      <td>NaN</td>\n",
       "      <td>NaN</td>\n",
       "    </tr>\n",
       "    <tr>\n",
       "      <th>10</th>\n",
       "      <td>28825229.0</td>\n",
       "      <td>3232502.0</td>\n",
       "      <td>NaN</td>\n",
       "      <td>NaN</td>\n",
       "      <td>3182735.0</td>\n",
       "      <td>NaN</td>\n",
       "      <td>5514089.0</td>\n",
       "      <td>7755412.0</td>\n",
       "      <td>NaN</td>\n",
       "      <td>NaN</td>\n",
       "      <td>NaN</td>\n",
       "      <td>NaN</td>\n",
       "      <td>NaN</td>\n",
       "      <td>4190508.0</td>\n",
       "      <td>NaN</td>\n",
       "      <td>NaN</td>\n",
       "    </tr>\n",
       "    <tr>\n",
       "      <th>11</th>\n",
       "      <td>19087914.0</td>\n",
       "      <td>NaN</td>\n",
       "      <td>NaN</td>\n",
       "      <td>NaN</td>\n",
       "      <td>NaN</td>\n",
       "      <td>NaN</td>\n",
       "      <td>NaN</td>\n",
       "      <td>NaN</td>\n",
       "      <td>NaN</td>\n",
       "      <td>NaN</td>\n",
       "      <td>NaN</td>\n",
       "      <td>NaN</td>\n",
       "      <td>NaN</td>\n",
       "      <td>NaN</td>\n",
       "      <td>NaN</td>\n",
       "      <td>NaN</td>\n",
       "    </tr>\n",
       "    <tr>\n",
       "      <th>12</th>\n",
       "      <td>25094330.0</td>\n",
       "      <td>2977448.0</td>\n",
       "      <td>NaN</td>\n",
       "      <td>NaN</td>\n",
       "      <td>NaN</td>\n",
       "      <td>NaN</td>\n",
       "      <td>13497904.0</td>\n",
       "      <td>NaN</td>\n",
       "      <td>NaN</td>\n",
       "      <td>210816.0</td>\n",
       "      <td>NaN</td>\n",
       "      <td>4409382.0</td>\n",
       "      <td>NaN</td>\n",
       "      <td>965690.0</td>\n",
       "      <td>NaN</td>\n",
       "      <td>NaN</td>\n",
       "    </tr>\n",
       "    <tr>\n",
       "      <th>13</th>\n",
       "      <td>59854839.0</td>\n",
       "      <td>21731300.0</td>\n",
       "      <td>3355488.0</td>\n",
       "      <td>12709844.0</td>\n",
       "      <td>16467436.0</td>\n",
       "      <td>7325856.0</td>\n",
       "      <td>163632881.0</td>\n",
       "      <td>1203408.0</td>\n",
       "      <td>15532044.0</td>\n",
       "      <td>15327726.0</td>\n",
       "      <td>NaN</td>\n",
       "      <td>NaN</td>\n",
       "      <td>5647328.0</td>\n",
       "      <td>983808.0</td>\n",
       "      <td>NaN</td>\n",
       "      <td>2134512.0</td>\n",
       "    </tr>\n",
       "    <tr>\n",
       "      <th>14</th>\n",
       "      <td>81588917.0</td>\n",
       "      <td>23132693.0</td>\n",
       "      <td>6981369.0</td>\n",
       "      <td>19625519.0</td>\n",
       "      <td>37228524.0</td>\n",
       "      <td>NaN</td>\n",
       "      <td>140252461.0</td>\n",
       "      <td>NaN</td>\n",
       "      <td>NaN</td>\n",
       "      <td>22022604.0</td>\n",
       "      <td>NaN</td>\n",
       "      <td>NaN</td>\n",
       "      <td>NaN</td>\n",
       "      <td>NaN</td>\n",
       "      <td>NaN</td>\n",
       "      <td>NaN</td>\n",
       "    </tr>\n",
       "    <tr>\n",
       "      <th>15</th>\n",
       "      <td>85346496.0</td>\n",
       "      <td>30202214.0</td>\n",
       "      <td>NaN</td>\n",
       "      <td>1121796.0</td>\n",
       "      <td>44263735.0</td>\n",
       "      <td>3344099.0</td>\n",
       "      <td>41564765.0</td>\n",
       "      <td>NaN</td>\n",
       "      <td>NaN</td>\n",
       "      <td>10208942.0</td>\n",
       "      <td>2737630.0</td>\n",
       "      <td>NaN</td>\n",
       "      <td>NaN</td>\n",
       "      <td>4366096.0</td>\n",
       "      <td>5992313.0</td>\n",
       "      <td>NaN</td>\n",
       "    </tr>\n",
       "  </tbody>\n",
       "</table>\n",
       "</div>"
      ],
      "text/plain": [
       "primary_use    Education  ...  Warehouse/storage\n",
       "site_id                   ...                   \n",
       "0             49772099.0  ...                NaN\n",
       "1             35659834.0  ...                NaN\n",
       "2            151147209.0  ...          1267124.0\n",
       "3             96008798.0  ...          7042304.0\n",
       "4             72798299.0  ...                NaN\n",
       "5             47741040.0  ...                NaN\n",
       "6             36847233.0  ...                NaN\n",
       "7             44204648.0  ...                NaN\n",
       "8                    NaN  ...           188041.0\n",
       "9            193850842.0  ...                NaN\n",
       "10            28825229.0  ...                NaN\n",
       "11            19087914.0  ...                NaN\n",
       "12            25094330.0  ...                NaN\n",
       "13            59854839.0  ...          2134512.0\n",
       "14            81588917.0  ...                NaN\n",
       "15            85346496.0  ...                NaN\n",
       "\n",
       "[16 rows x 16 columns]"
      ]
     },
     "execution_count": 54,
     "metadata": {
      "tags": []
     },
     "output_type": "execute_result"
    }
   ],
   "source": [
    "''' Total area distribution as per building type for each site'''\n",
    "train_copy.groupby(['site_id','primary_use'])['square_feet'].sum().unstack()"
   ]
  },
  {
   "cell_type": "code",
   "execution_count": 53,
   "metadata": {
    "colab": {
     "base_uri": "https://localhost:8080/",
     "height": 516
    },
    "id": "b6hgyXd31Wzm",
    "outputId": "1ed0c8f7-bbbb-46f8-85cc-c955e5fc80a7"
   },
   "outputs": [
    {
     "data": {
      "image/png": "[encoded data removed]",
      "text/plain": [
       "<Figure size 1080x576 with 1 Axes>"
      ]
     },
     "metadata": {
      "needs_background": "light",
      "tags": []
     },
     "output_type": "display_data"
    }
   ],
   "source": [
    "train_copy.groupby(['site_id','primary_use'])['square_feet'].sum().unstack().plot(kind='bar',stacked=True)\n",
    "plt.title('TOTAL AREA DISTRIBUTION AS PER BUILDING TYPE FOR EACH SITE')\n",
    "plt.xlabel('TOTAL AREA DISTRIBUTION AS PER BUILDING TYPE')\n",
    "plt.ylabel('SITE_ID')\n",
    "plt.show()"
   ]
  },
  {
   "cell_type": "markdown",
   "metadata": {
    "id": "juPvb1Civfij"
   },
   "source": [
    "From here we can see the maximum data has come from education institute as this is the majority for most of the site. In case of site 13,max data has come from office area."
   ]
  },
  {
   "cell_type": "code",
   "execution_count": 57,
   "metadata": {
    "colab": {
     "base_uri": "https://localhost:8080/",
     "height": 516
    },
    "id": "g0thlu0p5Y2U",
    "outputId": "45bd79c9-4bcc-4d44-83e0-53f239b383bf"
   },
   "outputs": [
    {
     "data": {
      "image/png": "[encoded data removed]",
      "text/plain": [
       "<Figure size 1080x576 with 1 Axes>"
      ]
     },
     "metadata": {
      "needs_background": "light",
      "tags": []
     },
     "output_type": "display_data"
    }
   ],
   "source": [
    "'''total area distribution per site'''\n",
    "train_copy.groupby('site_id')['square_feet'].sum().sort_values(ascending=True).plot(kind='bar')\n",
    "plt.xlabel('SITE')\n",
    "plt.ylabel('AREA')\n",
    "plt.title('TOTAL AREA PER SITE ID')\n",
    "plt.show()"
   ]
  },
  {
   "cell_type": "markdown",
   "metadata": {
    "id": "d_Cj7zJ7xF8e"
   },
   "source": [
    "From here we can see how much area has been considered from each site to collect the data . Maximum area has been considered from site 3 and minimun area has been considered from site 11"
   ]
  },
  {
   "cell_type": "code",
   "execution_count": 60,
   "metadata": {
    "colab": {
     "base_uri": "https://localhost:8080/",
     "height": 660
    },
    "id": "XuCsWjvi684E",
    "outputId": "ee568ec3-dc72-4299-ff84-ba40d617c3fb"
   },
   "outputs": [
    {
     "data": {
      "image/png": "[encoded data removed]",
      "text/plain": [
       "<Figure size 1080x576 with 1 Axes>"
      ]
     },
     "metadata": {
      "needs_background": "light",
      "tags": []
     },
     "output_type": "display_data"
    }
   ],
   "source": [
    "''' total area distribution as per building type'''\n",
    "train_copy.groupby('primary_use')['square_feet'].sum().sort_values(ascending=True).plot(kind='bar')\n",
    "plt.xlabel('PRIMARY_USE')\n",
    "plt.ylabel('AREA')\n",
    "plt.title('TOTAL AREA PER PRIMARY_USE')\n",
    "plt.show()"
   ]
  },
  {
   "cell_type": "markdown",
   "metadata": {
    "id": "ktFg5p5GyFQC"
   },
   "source": [
    "From here we can conclude, maximum data has been taken from educational institute and the next is office area. Minimum data has been taken from religious worship."
   ]
  },
  {
   "cell_type": "code",
   "execution_count": 61,
   "metadata": {
    "colab": {
     "base_uri": "https://localhost:8080/",
     "height": 659
    },
    "id": "BfgfxwQfAjWU",
    "outputId": "49b90ce7-fbfe-4fa8-ff0c-247414566058"
   },
   "outputs": [
    {
     "data": {
      "image/png": "[encoded data removed]",
      "text/plain": [
       "<Figure size 1080x576 with 1 Axes>"
      ]
     },
     "metadata": {
      "needs_background": "light",
      "tags": []
     },
     "output_type": "display_data"
    }
   ],
   "source": [
    "''' Mean energy consumption per building type'''\n",
    "train_copy.groupby('primary_use')['meter_reading'].mean().plot(kind='bar')\n",
    "plt.title('MEAN ENERGY CONSUMPTION PER BUILDING TYPE')\n",
    "plt.xlabel('BUILDING TYPE')\n",
    "plt.ylabel('MEAN ENERGY CONCUMPTION')\n",
    "plt.show()"
   ]
  },
  {
   "cell_type": "markdown",
   "metadata": {
    "id": "LTVCFY3D1ry1"
   },
   "source": [
    "From here we can see maximum energy consumption has happend in education area and service area . Minimum energy consumption has happend in  religious worship"
   ]
  },
  {
   "cell_type": "code",
   "execution_count": 62,
   "metadata": {
    "colab": {
     "base_uri": "https://localhost:8080/",
     "height": 576
    },
    "id": "MzVneLtOIP8S",
    "outputId": "7da139f9-141e-4a7f-9b47-614c1bd332e4"
   },
   "outputs": [
    {
     "data": {
      "text/html": [
       "<div>\n",
       "<style scoped>\n",
       "    .dataframe tbody tr th:only-of-type {\n",
       "        vertical-align: middle;\n",
       "    }\n",
       "\n",
       "    .dataframe tbody tr th {\n",
       "        vertical-align: top;\n",
       "    }\n",
       "\n",
       "    .dataframe thead th {\n",
       "        text-align: right;\n",
       "    }\n",
       "</style>\n",
       "<table border=\"1\" class=\"dataframe\">\n",
       "  <thead>\n",
       "    <tr style=\"text-align: right;\">\n",
       "      <th>meter</th>\n",
       "      <th>Electricity</th>\n",
       "      <th>HotWater</th>\n",
       "      <th>Steam</th>\n",
       "      <th>chiledWater</th>\n",
       "    </tr>\n",
       "    <tr>\n",
       "      <th>primary_use</th>\n",
       "      <th></th>\n",
       "      <th></th>\n",
       "      <th></th>\n",
       "      <th></th>\n",
       "    </tr>\n",
       "  </thead>\n",
       "  <tbody>\n",
       "    <tr>\n",
       "      <th>Education</th>\n",
       "      <td>93.75000</td>\n",
       "      <td>26.2481</td>\n",
       "      <td>217.0610</td>\n",
       "      <td>173.76800</td>\n",
       "    </tr>\n",
       "    <tr>\n",
       "      <th>Entertainment/public assembly</th>\n",
       "      <td>31.33000</td>\n",
       "      <td>50.2320</td>\n",
       "      <td>228.7500</td>\n",
       "      <td>147.56700</td>\n",
       "    </tr>\n",
       "    <tr>\n",
       "      <th>Food sales and service</th>\n",
       "      <td>72.00000</td>\n",
       "      <td>26.3764</td>\n",
       "      <td>742.4740</td>\n",
       "      <td>147.00400</td>\n",
       "    </tr>\n",
       "    <tr>\n",
       "      <th>Healthcare</th>\n",
       "      <td>164.77100</td>\n",
       "      <td>109.3900</td>\n",
       "      <td>950.1050</td>\n",
       "      <td>199.57150</td>\n",
       "    </tr>\n",
       "    <tr>\n",
       "      <th>Lodging/residential</th>\n",
       "      <td>58.75010</td>\n",
       "      <td>35.7812</td>\n",
       "      <td>125.2350</td>\n",
       "      <td>113.75100</td>\n",
       "    </tr>\n",
       "    <tr>\n",
       "      <th>Manufacturing/industrial</th>\n",
       "      <td>52.05900</td>\n",
       "      <td>NaN</td>\n",
       "      <td>511.7190</td>\n",
       "      <td>217.69300</td>\n",
       "    </tr>\n",
       "    <tr>\n",
       "      <th>Office</th>\n",
       "      <td>64.00000</td>\n",
       "      <td>79.1292</td>\n",
       "      <td>399.4140</td>\n",
       "      <td>60.97560</td>\n",
       "    </tr>\n",
       "    <tr>\n",
       "      <th>Other</th>\n",
       "      <td>12.50000</td>\n",
       "      <td>NaN</td>\n",
       "      <td>117.1875</td>\n",
       "      <td>83.89610</td>\n",
       "    </tr>\n",
       "    <tr>\n",
       "      <th>Parking</th>\n",
       "      <td>43.89400</td>\n",
       "      <td>NaN</td>\n",
       "      <td>594.0000</td>\n",
       "      <td>5.72690</td>\n",
       "    </tr>\n",
       "    <tr>\n",
       "      <th>Public services</th>\n",
       "      <td>36.74000</td>\n",
       "      <td>163.1810</td>\n",
       "      <td>536.1105</td>\n",
       "      <td>198.77200</td>\n",
       "    </tr>\n",
       "    <tr>\n",
       "      <th>Religious worship</th>\n",
       "      <td>3.75000</td>\n",
       "      <td>NaN</td>\n",
       "      <td>NaN</td>\n",
       "      <td>5.54730</td>\n",
       "    </tr>\n",
       "    <tr>\n",
       "      <th>Retail</th>\n",
       "      <td>27.86105</td>\n",
       "      <td>NaN</td>\n",
       "      <td>NaN</td>\n",
       "      <td>72.48230</td>\n",
       "    </tr>\n",
       "    <tr>\n",
       "      <th>Services</th>\n",
       "      <td>71.11800</td>\n",
       "      <td>NaN</td>\n",
       "      <td>387.2070</td>\n",
       "      <td>NaN</td>\n",
       "    </tr>\n",
       "    <tr>\n",
       "      <th>Technology/science</th>\n",
       "      <td>102.00200</td>\n",
       "      <td>0.0000</td>\n",
       "      <td>110.7120</td>\n",
       "      <td>70.12355</td>\n",
       "    </tr>\n",
       "    <tr>\n",
       "      <th>Utility</th>\n",
       "      <td>59.65125</td>\n",
       "      <td>NaN</td>\n",
       "      <td>590.9020</td>\n",
       "      <td>1080.41000</td>\n",
       "    </tr>\n",
       "    <tr>\n",
       "      <th>Warehouse/storage</th>\n",
       "      <td>21.41400</td>\n",
       "      <td>NaN</td>\n",
       "      <td>7.0801</td>\n",
       "      <td>NaN</td>\n",
       "    </tr>\n",
       "  </tbody>\n",
       "</table>\n",
       "</div>"
      ],
      "text/plain": [
       "meter                          Electricity  HotWater     Steam  chiledWater\n",
       "primary_use                                                                \n",
       "Education                         93.75000   26.2481  217.0610    173.76800\n",
       "Entertainment/public assembly     31.33000   50.2320  228.7500    147.56700\n",
       "Food sales and service            72.00000   26.3764  742.4740    147.00400\n",
       "Healthcare                       164.77100  109.3900  950.1050    199.57150\n",
       "Lodging/residential               58.75010   35.7812  125.2350    113.75100\n",
       "Manufacturing/industrial          52.05900       NaN  511.7190    217.69300\n",
       "Office                            64.00000   79.1292  399.4140     60.97560\n",
       "Other                             12.50000       NaN  117.1875     83.89610\n",
       "Parking                           43.89400       NaN  594.0000      5.72690\n",
       "Public services                   36.74000  163.1810  536.1105    198.77200\n",
       "Religious worship                  3.75000       NaN       NaN      5.54730\n",
       "Retail                            27.86105       NaN       NaN     72.48230\n",
       "Services                          71.11800       NaN  387.2070          NaN\n",
       "Technology/science               102.00200    0.0000  110.7120     70.12355\n",
       "Utility                           59.65125       NaN  590.9020   1080.41000\n",
       "Warehouse/storage                 21.41400       NaN    7.0801          NaN"
      ]
     },
     "execution_count": 62,
     "metadata": {
      "tags": []
     },
     "output_type": "execute_result"
    }
   ],
   "source": [
    "''' mean energy consumption per meter type for each different building'''\n",
    "train_copy.groupby(['primary_use','meter'])['meter_reading'].median().unstack()"
   ]
  },
  {
   "cell_type": "code",
   "execution_count": 71,
   "metadata": {
    "colab": {
     "base_uri": "https://localhost:8080/",
     "height": 659
    },
    "id": "tWBxWp85DN8O",
    "outputId": "6b536067-6131-4c0c-80a5-8daa003b709c"
   },
   "outputs": [
    {
     "data": {
      "image/png": "[encoded data removed]",
      "text/plain": [
       "<Figure size 1080x576 with 1 Axes>"
      ]
     },
     "metadata": {
      "needs_background": "light",
      "tags": []
     },
     "output_type": "display_data"
    }
   ],
   "source": [
    "train_copy.groupby(['primary_use','meter'])['meter_reading'].median().unstack().plot(kind='bar',stacked=True)\n",
    "plt.title('MEAN ENERGY CONSUMPTION PER METER TYPE FOR EACH BUILDING TYPE')\n",
    "plt.xlabel('BUILDING TYPE')\n",
    "plt.ylabel('MEAN ENERGY CONSUMPTION PER METER TYPE')\n",
    "plt.show()"
   ]
  },
  {
   "cell_type": "markdown",
   "metadata": {
    "id": "PxkKYXY120V7"
   },
   "source": [
    "From here we can conclude maximum energy consumption due to electricity and steam has happend in healthcare instiute.Maximum energy consumption due to chiledwater has happend in utility area.Maximum energy consumption due to hot water has happend in public service area."
   ]
  },
  {
   "cell_type": "code",
   "execution_count": 72,
   "metadata": {
    "colab": {
     "base_uri": "https://localhost:8080/",
     "height": 309
    },
    "id": "mkjftgXNOmGj",
    "outputId": "088a249f-1c4b-4d1e-9277-2bbad3ce543b"
   },
   "outputs": [
    {
     "data": {
      "text/html": [
       "<div>\n",
       "<style scoped>\n",
       "    .dataframe tbody tr th:only-of-type {\n",
       "        vertical-align: middle;\n",
       "    }\n",
       "\n",
       "    .dataframe tbody tr th {\n",
       "        vertical-align: top;\n",
       "    }\n",
       "\n",
       "    .dataframe thead th {\n",
       "        text-align: right;\n",
       "    }\n",
       "</style>\n",
       "<table border=\"1\" class=\"dataframe\">\n",
       "  <thead>\n",
       "    <tr style=\"text-align: right;\">\n",
       "      <th></th>\n",
       "      <th>building_id</th>\n",
       "      <th>meter</th>\n",
       "      <th>timestamp</th>\n",
       "      <th>meter_reading</th>\n",
       "      <th>site_id</th>\n",
       "      <th>primary_use</th>\n",
       "      <th>square_feet</th>\n",
       "      <th>year_built</th>\n",
       "      <th>floor_count</th>\n",
       "      <th>air_temperature</th>\n",
       "      <th>cloud_coverage</th>\n",
       "      <th>dew_temperature</th>\n",
       "      <th>precip_depth_1_hr</th>\n",
       "      <th>sea_level_pressure</th>\n",
       "      <th>wind_direction</th>\n",
       "      <th>wind_speed</th>\n",
       "      <th>hour</th>\n",
       "      <th>day</th>\n",
       "      <th>month</th>\n",
       "      <th>weekday</th>\n",
       "    </tr>\n",
       "  </thead>\n",
       "  <tbody>\n",
       "    <tr>\n",
       "      <th>0</th>\n",
       "      <td>0</td>\n",
       "      <td>Electricity</td>\n",
       "      <td>2016-01-01</td>\n",
       "      <td>0.0</td>\n",
       "      <td>0</td>\n",
       "      <td>Education</td>\n",
       "      <td>8</td>\n",
       "      <td>2008.0</td>\n",
       "      <td>NaN</td>\n",
       "      <td>25.0</td>\n",
       "      <td>6.0</td>\n",
       "      <td>20.0</td>\n",
       "      <td>NaN</td>\n",
       "      <td>1019.7</td>\n",
       "      <td>0.0</td>\n",
       "      <td>0.0</td>\n",
       "      <td>0</td>\n",
       "      <td>1</td>\n",
       "      <td>Jan</td>\n",
       "      <td>Friday</td>\n",
       "    </tr>\n",
       "    <tr>\n",
       "      <th>1</th>\n",
       "      <td>1</td>\n",
       "      <td>Electricity</td>\n",
       "      <td>2016-01-01</td>\n",
       "      <td>0.0</td>\n",
       "      <td>0</td>\n",
       "      <td>Education</td>\n",
       "      <td>160</td>\n",
       "      <td>2004.0</td>\n",
       "      <td>NaN</td>\n",
       "      <td>25.0</td>\n",
       "      <td>6.0</td>\n",
       "      <td>20.0</td>\n",
       "      <td>NaN</td>\n",
       "      <td>1019.7</td>\n",
       "      <td>0.0</td>\n",
       "      <td>0.0</td>\n",
       "      <td>0</td>\n",
       "      <td>1</td>\n",
       "      <td>Jan</td>\n",
       "      <td>Friday</td>\n",
       "    </tr>\n",
       "    <tr>\n",
       "      <th>2</th>\n",
       "      <td>2</td>\n",
       "      <td>Electricity</td>\n",
       "      <td>2016-01-01</td>\n",
       "      <td>0.0</td>\n",
       "      <td>0</td>\n",
       "      <td>Education</td>\n",
       "      <td>0</td>\n",
       "      <td>1991.0</td>\n",
       "      <td>NaN</td>\n",
       "      <td>25.0</td>\n",
       "      <td>6.0</td>\n",
       "      <td>20.0</td>\n",
       "      <td>NaN</td>\n",
       "      <td>1019.7</td>\n",
       "      <td>0.0</td>\n",
       "      <td>0.0</td>\n",
       "      <td>0</td>\n",
       "      <td>1</td>\n",
       "      <td>Jan</td>\n",
       "      <td>Friday</td>\n",
       "    </tr>\n",
       "    <tr>\n",
       "      <th>3</th>\n",
       "      <td>3</td>\n",
       "      <td>Electricity</td>\n",
       "      <td>2016-01-01</td>\n",
       "      <td>0.0</td>\n",
       "      <td>0</td>\n",
       "      <td>Education</td>\n",
       "      <td>133</td>\n",
       "      <td>2002.0</td>\n",
       "      <td>NaN</td>\n",
       "      <td>25.0</td>\n",
       "      <td>6.0</td>\n",
       "      <td>20.0</td>\n",
       "      <td>NaN</td>\n",
       "      <td>1019.7</td>\n",
       "      <td>0.0</td>\n",
       "      <td>0.0</td>\n",
       "      <td>0</td>\n",
       "      <td>1</td>\n",
       "      <td>Jan</td>\n",
       "      <td>Friday</td>\n",
       "    </tr>\n",
       "    <tr>\n",
       "      <th>4</th>\n",
       "      <td>4</td>\n",
       "      <td>Electricity</td>\n",
       "      <td>2016-01-01</td>\n",
       "      <td>0.0</td>\n",
       "      <td>0</td>\n",
       "      <td>Education</td>\n",
       "      <td>127</td>\n",
       "      <td>1975.0</td>\n",
       "      <td>NaN</td>\n",
       "      <td>25.0</td>\n",
       "      <td>6.0</td>\n",
       "      <td>20.0</td>\n",
       "      <td>NaN</td>\n",
       "      <td>1019.7</td>\n",
       "      <td>0.0</td>\n",
       "      <td>0.0</td>\n",
       "      <td>0</td>\n",
       "      <td>1</td>\n",
       "      <td>Jan</td>\n",
       "      <td>Friday</td>\n",
       "    </tr>\n",
       "  </tbody>\n",
       "</table>\n",
       "</div>"
      ],
      "text/plain": [
       "   building_id        meter  timestamp  meter_reading  ...  hour day  month  weekday\n",
       "0            0  Electricity 2016-01-01            0.0  ...     0   1    Jan   Friday\n",
       "1            1  Electricity 2016-01-01            0.0  ...     0   1    Jan   Friday\n",
       "2            2  Electricity 2016-01-01            0.0  ...     0   1    Jan   Friday\n",
       "3            3  Electricity 2016-01-01            0.0  ...     0   1    Jan   Friday\n",
       "4            4  Electricity 2016-01-01            0.0  ...     0   1    Jan   Friday\n",
       "\n",
       "[5 rows x 20 columns]"
      ]
     },
     "execution_count": 72,
     "metadata": {
      "tags": []
     },
     "output_type": "execute_result"
    }
   ],
   "source": [
    "train_copy.head()"
   ]
  },
  {
   "cell_type": "code",
   "execution_count": 73,
   "metadata": {
    "colab": {
     "base_uri": "https://localhost:8080/",
     "height": 513
    },
    "id": "31rIUjPjH5QI",
    "outputId": "1bde38c8-590b-4e6f-9305-11a28f9c47da"
   },
   "outputs": [
    {
     "data": {
      "image/png": "[encoded data removed]",
      "text/plain": [
       "<Figure size 1080x576 with 1 Axes>"
      ]
     },
     "metadata": {
      "needs_background": "light",
      "tags": []
     },
     "output_type": "display_data"
    }
   ],
   "source": [
    "train_copy.groupby('cloud_coverage')['meter_reading'].mean().plot()\n",
    "plt.title(' MEAN ENERGY CONSUMPTION DEPENDS UPON CLOUD COVERAGE')\n",
    "plt.xlabel('CLOUD COVERAGE')\n",
    "plt.ylabel('ENERGY CONSUMPTION')\n",
    "plt.show()\n"
   ]
  },
  {
   "cell_type": "markdown",
   "metadata": {
    "id": "FG3clQpynqji"
   },
   "source": [
    "Energy consumption has not been directly related to Cloude covereage. But Cloude covereage has an impact on air temperature as if the weather is cloudy, the air temperature become less which will help to reduce cooling load."
   ]
  },
  {
   "cell_type": "code",
   "execution_count": 74,
   "metadata": {
    "colab": {
     "base_uri": "https://localhost:8080/",
     "height": 513
    },
    "id": "y4hPGPm2Mx2X",
    "outputId": "242097d9-9c25-44a8-f254-10cf6a68db40"
   },
   "outputs": [
    {
     "data": {
      "image/png": "[encoded data removed]",
      "text/plain": [
       "<Figure size 1080x576 with 1 Axes>"
      ]
     },
     "metadata": {
      "needs_background": "light",
      "tags": []
     },
     "output_type": "display_data"
    }
   ],
   "source": [
    "plt.plot(train_copy['air_temperature'],train_data['meter_reading'])\n",
    "plt.title(' ENERGY CONSUMPTION DEPENDS UPON AIR TEMPERATURE')\n",
    "plt.xlabel('AIR TEMPERATURE')\n",
    "plt.ylabel('ENERGY CONSUMPTION')\n",
    "plt.show()"
   ]
  },
  {
   "cell_type": "markdown",
   "metadata": {
    "id": "uTtT2rDu3QAC"
   },
   "source": [
    "From the above graph we can see the energy consumption respect to air temperature"
   ]
  },
  {
   "cell_type": "code",
   "execution_count": 75,
   "metadata": {
    "colab": {
     "base_uri": "https://localhost:8080/",
     "height": 514
    },
    "id": "KgxiUwLYuI0a",
    "outputId": "d6fae0fd-c463-4762-a189-cd980413048b"
   },
   "outputs": [
    {
     "data": {
      "image/png": "[encoded data removed]",
      "text/plain": [
       "<Figure size 1080x576 with 1 Axes>"
      ]
     },
     "metadata": {
      "needs_background": "light",
      "tags": []
     },
     "output_type": "display_data"
    }
   ],
   "source": [
    "'''distribution of meter reading'''\n",
    "\n",
    "sns.kdeplot(train_copy['meter_reading'])\n",
    "plt.ylabel('COUNT')\n",
    "plt.title('DISTRIBUTION OF METER READING')\n",
    "plt.show()"
   ]
  },
  {
   "cell_type": "markdown",
   "metadata": {
    "id": "03ejmnYlq69L"
   },
   "source": [
    "From the above graph we can see the meter reading is not Gaussian distributed. So we have to do log transform to convert meter reading to Gaussian distribution"
   ]
  },
  {
   "cell_type": "code",
   "execution_count": 19,
   "metadata": {
    "id": "Mv1SMsPpthsG"
   },
   "outputs": [],
   "source": [
    "train_copy['meter_reading'] = np.log1p(train_copy['meter_reading'])\n"
   ]
  },
  {
   "cell_type": "code",
   "execution_count": 20,
   "metadata": {
    "colab": {
     "base_uri": "https://localhost:8080/",
     "height": 514
    },
    "id": "SR5K6CPwxd9r",
    "outputId": "fe517511-fa2d-4455-a45b-dc7c3ae8c3d4"
   },
   "outputs": [
    {
     "data": {
      "image/png": "[encoded data removed]",
      "text/plain": [
       "<Figure size 432x288 with 1 Axes>"
      ]
     },
     "metadata": {
      "needs_background": "light"
     },
     "output_type": "display_data"
    }
   ],
   "source": [
    "# https://www.kaggle.com/zeynepkurban/ashrae-great-energy-predictor-iii\n",
    "''' distribution of meter reading after lof transform'''\n",
    "sns.kdeplot(train_copy['meter_reading'])\n",
    "plt.ylabel('COUNT')\n",
    "plt.title('DISTRIBUTION OF METER READING')\n",
    "plt.show()"
   ]
  },
  {
   "cell_type": "code",
   "execution_count": 78,
   "metadata": {
    "colab": {
     "base_uri": "https://localhost:8080/",
     "height": 571
    },
    "id": "ZBYtxAfABD_a",
    "outputId": "89af6a52-a9e0-4736-b0e1-8fcd3c555681"
   },
   "outputs": [
    {
     "data": {
      "image/png": "[encoded data removed]",
      "text/plain": [
       "<Figure size 1080x576 with 2 Axes>"
      ]
     },
     "metadata": {
      "needs_background": "light",
      "tags": []
     },
     "output_type": "display_data"
    }
   ],
   "source": [
    "''' To see correlation between all features'''\n",
    "sns.heatmap(train_copy.corr(),cmap='Blues')\n",
    "plt.show()"
   ]
  },
  {
   "cell_type": "markdown",
   "metadata": {
    "id": "21nda9Cwwpr_"
   },
   "source": [
    "From here we can see the correlation between all the featurs. we can conclude site_id,sea_level_pressure and precip_depth_1_hr have very less correlation with other features"
   ]
  },
  {
   "cell_type": "markdown",
   "metadata": {
    "id": "Tj3Z9EhLQQFI"
   },
   "source": [
    "# Missing value"
   ]
  },
  {
   "cell_type": "markdown",
   "metadata": {
    "id": "pYpbACWvT-03"
   },
   "source": [
    "# Missing value Building data"
   ]
  },
  {
   "cell_type": "code",
   "execution_count": null,
   "metadata": {
    "colab": {
     "base_uri": "https://localhost:8080/"
    },
    "id": "OEHin3jTQjox",
    "outputId": "f73aa890-f788-47a6-99be-c1ce6f1fb962"
   },
   "outputs": [
    {
     "data": {
      "text/plain": [
       "site_id           0\n",
       "building_id       0\n",
       "primary_use       0\n",
       "square_feet       0\n",
       "year_built      774\n",
       "floor_count    1094\n",
       "dtype: int64"
      ]
     },
     "execution_count": 51,
     "metadata": {
      "tags": []
     },
     "output_type": "execute_result"
    }
   ],
   "source": [
    "building_data.isnull().sum()"
   ]
  },
  {
   "cell_type": "markdown",
   "metadata": {
    "id": "x0aMIkknWjAP"
   },
   "source": [
    "# Missing value weather"
   ]
  },
  {
   "cell_type": "code",
   "execution_count": null,
   "metadata": {
    "colab": {
     "base_uri": "https://localhost:8080/"
    },
    "id": "oamJ6n4P29wM",
    "outputId": "7233f0d0-18ea-4031-8bfa-b9e889bb172a"
   },
   "outputs": [
    {
     "data": {
      "text/plain": [
       "15.987952737489769"
      ]
     },
     "execution_count": 52,
     "metadata": {
      "tags": []
     },
     "output_type": "execute_result"
    }
   ],
   "source": [
    "train_copy['air_temperature'].mean()"
   ]
  },
  {
   "cell_type": "code",
   "execution_count": null,
   "metadata": {
    "colab": {
     "base_uri": "https://localhost:8080/"
    },
    "id": "1cpQb8DqQn6k",
    "outputId": "5802c1b3-71de-4ebd-8b88-fb2069deb501"
   },
   "outputs": [
    {
     "data": {
      "text/plain": [
       "site_id                   0\n",
       "timestamp                 0\n",
       "air_temperature          55\n",
       "cloud_coverage        69173\n",
       "dew_temperature         113\n",
       "precip_depth_1_hr     50289\n",
       "sea_level_pressure    10618\n",
       "wind_direction         6268\n",
       "wind_speed              304\n",
       "dtype: int64"
      ]
     },
     "execution_count": 53,
     "metadata": {
      "tags": []
     },
     "output_type": "execute_result"
    }
   ],
   "source": [
    "weather.isnull().sum()"
   ]
  },
  {
   "cell_type": "markdown",
   "metadata": {
    "id": "_k43Cg2w4wlv"
   },
   "source": [
    "# Missing value train"
   ]
  },
  {
   "cell_type": "code",
   "execution_count": 79,
   "metadata": {
    "colab": {
     "base_uri": "https://localhost:8080/"
    },
    "id": "SGlBzv3u3NfP",
    "outputId": "81245566-7c75-40c9-94f7-961c675c4b8b"
   },
   "outputs": [
    {
     "data": {
      "text/plain": [
       "building_id                  0\n",
       "meter                        0\n",
       "timestamp                    0\n",
       "meter_reading                0\n",
       "site_id                      0\n",
       "primary_use                  0\n",
       "square_feet                  0\n",
       "year_built            12127645\n",
       "floor_count           16709167\n",
       "air_temperature          96658\n",
       "cloud_coverage         8825365\n",
       "dew_temperature         100140\n",
       "precip_depth_1_hr      3749023\n",
       "sea_level_pressure     1231669\n",
       "wind_direction         1449048\n",
       "wind_speed              143676\n",
       "hour                         0\n",
       "day                          0\n",
       "month                        0\n",
       "weekday                      0\n",
       "dtype: int64"
      ]
     },
     "execution_count": 79,
     "metadata": {
      "tags": []
     },
     "output_type": "execute_result"
    }
   ],
   "source": [
    "''' missing value in the total data set'''\n",
    "train_copy.isnull().sum()"
   ]
  },
  {
   "cell_type": "code",
   "execution_count": 80,
   "metadata": {
    "colab": {
     "base_uri": "https://localhost:8080/"
    },
    "id": "uXIAqltJXS1n",
    "outputId": "bd4bd67a-04eb-4280-bda8-6e5e9467e066"
   },
   "outputs": [
    {
     "name": "stderr",
     "output_type": "stream",
     "text": [
      "100%|██████████| 20/20 [00:05<00:00,  3.69it/s]"
     ]
    },
    {
     "name": "stdout",
     "output_type": "stream",
     "text": [
      "+--------------------+---------------------+--------------------+--------+\n",
      "|       column       | Total missing value |        mean        | median |\n",
      "+--------------------+---------------------+--------------------+--------+\n",
      "|     year_built     |       12127645      | 1968.2767356683075 | 1969.0 |\n",
      "|    floor_count     |       16709167      | 4.184848127979634  |  3.0   |\n",
      "|  air_temperature   |        96658        | 15.987952737489769 |  16.7  |\n",
      "|   cloud_coverage   |       8825365       | 1.9004228436531971 |  0.0   |\n",
      "|  dew_temperature   |        100140       | 7.747429309915309  |  8.9   |\n",
      "| precip_depth_1_hr  |       3749023       | 0.796415538714005  |  0.0   |\n",
      "| sea_level_pressure |       1231669       | 1016.0854873724754 | 1016.0 |\n",
      "|   wind_direction   |       1449048       | 173.01510391722684 | 180.0  |\n",
      "|     wind_speed     |        143676       | 3.3775245837257293 |  3.1   |\n",
      "+--------------------+---------------------+--------------------+--------+\n"
     ]
    },
    {
     "name": "stderr",
     "output_type": "stream",
     "text": [
      "\n"
     ]
    }
   ],
   "source": [
    "from prettytable import PrettyTable\n",
    "from tqdm import tqdm\n",
    "\n",
    "x = PrettyTable()\n",
    "\n",
    "x.field_names = [\"column\", \"Total missing value\", \"mean\", \"median\"]\n",
    "for i in tqdm(train_copy.columns):\n",
    "  if i !='timestamp' and train_copy[i].isnull().sum() != 0:\n",
    "    x.add_row([i, train_copy[i].isnull().sum(), train_copy[i].mean(), train_copy[i].median()])\n",
    "print(x)"
   ]
  },
  {
   "cell_type": "code",
   "execution_count": 21,
   "metadata": {
    "id": "rtB2BjqhY1Vr"
   },
   "outputs": [],
   "source": [
    "''' replace nan value with mean value for all the features'''\n",
    "\n",
    "train_copy['year_built'].fillna(train_copy['year_built'].median(),inplace  = True)\n",
    "train_copy['floor_count'].fillna(train_copy['floor_count'].median(),inplace  = True)\n",
    "train_copy['air_temperature'].fillna(train_copy['air_temperature'].mean(),inplace  = True)\n",
    "train_copy['cloud_coverage'].fillna(train_copy['cloud_coverage'].mean(),inplace  = True)\n",
    "train_copy['dew_temperature'].fillna(train_copy['dew_temperature'].mean(),inplace  = True)\n",
    "train_copy['precip_depth_1_hr'].fillna(train_copy['precip_depth_1_hr'].mean(),inplace  = True)\n",
    "train_copy['sea_level_pressure'].fillna(train_copy['sea_level_pressure'].mean(),inplace  = True)\n",
    "train_copy['wind_direction'].fillna(train_copy['wind_direction'].mean(),inplace  = True)\n",
    "train_copy['wind_speed'].fillna(train_copy['wind_speed'].mean(),inplace  = True)\n"
   ]
  },
  {
   "cell_type": "code",
   "execution_count": 22,
   "metadata": {
    "colab": {
     "base_uri": "https://localhost:8080/"
    },
    "id": "N5uU4hnz7Num",
    "outputId": "83227397-fab8-4347-ef9f-12df27bfc7da"
   },
   "outputs": [
    {
     "data": {
      "text/plain": [
       "building_id           0\n",
       "meter                 0\n",
       "timestamp             0\n",
       "meter_reading         0\n",
       "site_id               0\n",
       "primary_use           0\n",
       "square_feet           0\n",
       "year_built            0\n",
       "floor_count           0\n",
       "air_temperature       0\n",
       "cloud_coverage        0\n",
       "dew_temperature       0\n",
       "precip_depth_1_hr     0\n",
       "sea_level_pressure    0\n",
       "wind_direction        0\n",
       "wind_speed            0\n",
       "hour                  0\n",
       "day                   0\n",
       "month                 0\n",
       "weekday               0\n",
       "dtype: int64"
      ]
     },
     "execution_count": 22,
     "metadata": {},
     "output_type": "execute_result"
    }
   ],
   "source": [
    "train_copy.isnull().sum()"
   ]
  },
  {
   "cell_type": "code",
   "execution_count": 34,
   "metadata": {
    "colab": {
     "base_uri": "https://localhost:8080/"
    },
    "id": "9od4Wcdq3J1V",
    "outputId": "de1a824f-2256-4335-9d95-23d37dc80643"
   },
   "outputs": [
    {
     "data": {
      "text/plain": [
       "(20216100, 20)"
      ]
     },
     "execution_count": 34,
     "metadata": {},
     "output_type": "execute_result"
    }
   ],
   "source": [
    "'''The shap  before removing outlier'''\n",
    "train_copy.shape"
   ]
  },
  {
   "cell_type": "code",
   "execution_count": 35,
   "metadata": {
    "id": "F-AecI7L3J1h"
   },
   "outputs": [],
   "source": [
    "''' to save the train csv file for future use'''\n",
    "#path = r'/content/drive/My Drive/case study1/train_final_with_outlier.csv'\n",
    "train_copy.to_csv('train_final_with_outlier.csv',index=False)"
   ]
  },
  {
   "cell_type": "markdown",
   "metadata": {
    "id": "TjyyofK5DKlX"
   },
   "source": [
    "# Remove Outlier"
   ]
  },
  {
   "cell_type": "code",
   "execution_count": null,
   "metadata": {
    "colab": {
     "base_uri": "https://localhost:8080/",
     "height": 469
    },
    "id": "D4FYu8LvDRjB",
    "outputId": "ac832563-f6a4-4e28-9221-9a3ab7fa7979",
    "scrolled": true
   },
   "outputs": [
    {
     "data": {
      "image/png": "[encoded data removed]",
      "text/plain": [
       "<Figure size 1080x576 with 1 Axes>"
      ]
     },
     "metadata": {
      "needs_background": "light",
      "tags": []
     },
     "output_type": "display_data"
    }
   ],
   "source": [
    "sns.boxplot(y=train_copy['meter_reading'])\n",
    "plt.show()"
   ]
  },
  {
   "cell_type": "markdown",
   "metadata": {
    "id": "HVKQ3g3hkeat"
   },
   "source": [
    "From the above boxplot we can conclude, there are lots of outlier present in the dataset which we need to remove because the evaluation metric is Root Mean Squared Logarithmic Error which is outlier sensetive."
   ]
  },
  {
   "cell_type": "code",
   "execution_count": null,
   "metadata": {
    "colab": {
     "base_uri": "https://localhost:8080/"
    },
    "id": "MPNt_bSbFMss",
    "outputId": "5711e073-de4b-4eea-878f-f58157c2f4f8"
   },
   "outputs": [
    {
     "data": {
      "text/plain": [
       "count    2.021610e+07\n",
       "mean     4.145766e+00\n",
       "std      2.146220e+00\n",
       "min      0.000000e+00\n",
       "25%      2.960105e+00\n",
       "50%      4.379210e+00\n",
       "75%      5.594652e+00\n",
       "max      1.690221e+01\n",
       "Name: meter_reading, dtype: float64"
      ]
     },
     "execution_count": 59,
     "metadata": {
      "tags": []
     },
     "output_type": "execute_result"
    }
   ],
   "source": [
    "train_copy['meter_reading'].describe()"
   ]
  },
  {
   "cell_type": "code",
   "execution_count": null,
   "metadata": {
    "colab": {
     "base_uri": "https://localhost:8080/"
    },
    "id": "TQpzZsQrGAqu",
    "outputId": "0530c922-4ff5-42dd-fa3b-324dd1cf9bc4"
   },
   "outputs": [
    {
     "name": "stdout",
     "output_type": "stream",
     "text": [
      "90percentile value=6.688350977949746\n",
      "91percentile value=6.799055862058796\n",
      "92percentile value=6.909543678841354\n",
      "93percentile value=7.044137603834646\n",
      "94percentile value=7.196956197403187\n",
      "95percentile value=7.366672682490307\n",
      "96percentile value=7.571669304271807\n",
      "97percentile value=7.824445930877619\n",
      "98percentile value=8.137252603425853\n",
      "99percentile value=8.603411253815043\n",
      "100percentile value=16.902211829285342\n"
     ]
    }
   ],
   "source": [
    "''' to see the values in between 90 percentile to 100 persentile'''\n",
    "for i in range (90,101,1):\n",
    "  \n",
    "  print('{0}percentile value={1}'.format(i,np.percentile(train_copy['meter_reading'].values, i)))\n"
   ]
  },
  {
   "cell_type": "markdown",
   "metadata": {
    "id": "-eTAlYZtnG7x"
   },
   "source": [
    "From above we can see the increment of meter reading from 90 percentile to 99 percentile almost linear.But the value increased almost to double from 99 percentile to 100 percentile which indicates there is outlier in the dataset"
   ]
  },
  {
   "cell_type": "code",
   "execution_count": null,
   "metadata": {
    "colab": {
     "base_uri": "https://localhost:8080/"
    },
    "id": "LT8wpoZqFrTr",
    "outputId": "1906483e-29a3-4edf-c90d-625c13aa2077"
   },
   "outputs": [
    {
     "name": "stdout",
     "output_type": "stream",
     "text": [
      "2.634546802368117\n",
      "Identified outliers: 62648\n",
      "Non-outlier observations: 20153452\n",
      "the shape of index of outlier 62648\n"
     ]
    }
   ],
   "source": [
    "''' Find out the outlier'''\n",
    "from numpy import percentile\n",
    "#https://machinelearningmastery.com/how-to-use-statistics-to-identify-outliers-in-data/\n",
    "q25, q75 = percentile(train_copy['meter_reading'].values, 25), percentile(train_copy['meter_reading'].values, 75)\n",
    "iqr = q75 - q25\n",
    "print(iqr)\n",
    "cut_off = iqr * 1.5\n",
    "lower, upper = q25 - cut_off, q75 + cut_off\n",
    "outliers = [x for x in train_copy['meter_reading'].values if x < lower or x > upper]\n",
    "print('Identified outliers: %d' % len(outliers))\n",
    "outliers_removed = [x for x in train_copy['meter_reading'].values if x >= lower and x <= upper]\n",
    "print('Non-outlier observations: %d' % len(outliers_removed))\n",
    "outlier_index=[]\n",
    "for index,value in enumerate(train_copy['meter_reading'].values):\n",
    "  if value < lower or value > upper:\n",
    "    outlier_index.append(index)\n",
    "print('the shape of index of outlier',len(outlier_index))"
   ]
  },
  {
   "cell_type": "markdown",
   "metadata": {
    "id": "zqnRP8p2olp1"
   },
   "source": [
    "From the above we can see there are 62648 nos of data which identify as outlier"
   ]
  },
  {
   "cell_type": "code",
   "execution_count": null,
   "metadata": {
    "id": "T-t4jANeMy8Z"
   },
   "outputs": [],
   "source": [
    "'''Remove outlier'''\n",
    "# https://stackoverflow.com/questions/14661701/how-to-drop-a-list-of-rows-from-pandas-dataframe\n",
    "indexes_to_keep = set(range(train_copy.shape[0])) - set(outlier_index)\n",
    "train_copy_sliced = train_copy.take(list(indexes_to_keep))"
   ]
  },
  {
   "cell_type": "code",
   "execution_count": null,
   "metadata": {
    "colab": {
     "base_uri": "https://localhost:8080/"
    },
    "id": "N3l3iE7zhdVv",
    "outputId": "ad9db607-5391-4856-d731-bb70a43787ca"
   },
   "outputs": [
    {
     "data": {
      "text/plain": [
       "(20153452, 19)"
      ]
     },
     "execution_count": 63,
     "metadata": {
      "tags": []
     },
     "output_type": "execute_result"
    }
   ],
   "source": [
    "'''The shap after removing outlier'''\n",
    "train_copy_sliced.shape"
   ]
  },
  {
   "cell_type": "code",
   "execution_count": null,
   "metadata": {
    "id": "VLiHsERjx1Fc"
   },
   "outputs": [],
   "source": [
    "''' to save the train csv file for future use'''\n",
    "path = r'/content/drive/My Drive/case study1/train_final.csv'\n",
    "train_copy_sliced.to_csv(path_or_buf=path,index=False)"
   ]
  },
  {
   "cell_type": "markdown",
   "metadata": {
    "id": "R7mLZnr0pkt7"
   },
   "source": [
    "# Test data preparation\n",
    "\n"
   ]
  },
  {
   "cell_type": "code",
   "execution_count": 25,
   "metadata": {
    "colab": {
     "base_uri": "https://localhost:8080/",
     "height": 204
    },
    "id": "ktikBaXlptTC",
    "outputId": "6e0f39cb-f20c-4dee-a852-2d92c0f38a06"
   },
   "outputs": [
    {
     "data": {
      "text/html": [
       "<div>\n",
       "<style scoped>\n",
       "    .dataframe tbody tr th:only-of-type {\n",
       "        vertical-align: middle;\n",
       "    }\n",
       "\n",
       "    .dataframe tbody tr th {\n",
       "        vertical-align: top;\n",
       "    }\n",
       "\n",
       "    .dataframe thead th {\n",
       "        text-align: right;\n",
       "    }\n",
       "</style>\n",
       "<table border=\"1\" class=\"dataframe\">\n",
       "  <thead>\n",
       "    <tr style=\"text-align: right;\">\n",
       "      <th></th>\n",
       "      <th>row_id</th>\n",
       "      <th>building_id</th>\n",
       "      <th>meter</th>\n",
       "      <th>timestamp</th>\n",
       "    </tr>\n",
       "  </thead>\n",
       "  <tbody>\n",
       "    <tr>\n",
       "      <th>0</th>\n",
       "      <td>0</td>\n",
       "      <td>0</td>\n",
       "      <td>0</td>\n",
       "      <td>2017-01-01 00:00:00</td>\n",
       "    </tr>\n",
       "    <tr>\n",
       "      <th>1</th>\n",
       "      <td>1</td>\n",
       "      <td>1</td>\n",
       "      <td>0</td>\n",
       "      <td>2017-01-01 00:00:00</td>\n",
       "    </tr>\n",
       "    <tr>\n",
       "      <th>2</th>\n",
       "      <td>2</td>\n",
       "      <td>2</td>\n",
       "      <td>0</td>\n",
       "      <td>2017-01-01 00:00:00</td>\n",
       "    </tr>\n",
       "    <tr>\n",
       "      <th>3</th>\n",
       "      <td>3</td>\n",
       "      <td>3</td>\n",
       "      <td>0</td>\n",
       "      <td>2017-01-01 00:00:00</td>\n",
       "    </tr>\n",
       "    <tr>\n",
       "      <th>4</th>\n",
       "      <td>4</td>\n",
       "      <td>4</td>\n",
       "      <td>0</td>\n",
       "      <td>2017-01-01 00:00:00</td>\n",
       "    </tr>\n",
       "  </tbody>\n",
       "</table>\n",
       "</div>"
      ],
      "text/plain": [
       "   row_id  building_id  meter            timestamp\n",
       "0       0            0      0  2017-01-01 00:00:00\n",
       "1       1            1      0  2017-01-01 00:00:00\n",
       "2       2            2      0  2017-01-01 00:00:00\n",
       "3       3            3      0  2017-01-01 00:00:00\n",
       "4       4            4      0  2017-01-01 00:00:00"
      ]
     },
     "execution_count": 25,
     "metadata": {},
     "output_type": "execute_result"
    }
   ],
   "source": [
    "#path = r'/content/drive/My Drive/case study1/test.csv'\n",
    "test = pd.read_csv('test.csv')\n",
    "test.head()"
   ]
  },
  {
   "cell_type": "code",
   "execution_count": 26,
   "metadata": {
    "colab": {
     "base_uri": "https://localhost:8080/"
    },
    "id": "5ZHzXZrkrxGH",
    "outputId": "7c737d98-8018-4c93-98a0-252c1a8b13a6"
   },
   "outputs": [
    {
     "data": {
      "text/plain": [
       "(41697600, 4)"
      ]
     },
     "execution_count": 26,
     "metadata": {},
     "output_type": "execute_result"
    }
   ],
   "source": [
    "test.shape"
   ]
  },
  {
   "cell_type": "code",
   "execution_count": 27,
   "metadata": {
    "colab": {
     "base_uri": "https://localhost:8080/",
     "height": 204
    },
    "id": "oWgPMZItq14L",
    "outputId": "dee0def4-7b8b-4d81-f0d6-179259f190ab"
   },
   "outputs": [
    {
     "data": {
      "text/html": [
       "<div>\n",
       "<style scoped>\n",
       "    .dataframe tbody tr th:only-of-type {\n",
       "        vertical-align: middle;\n",
       "    }\n",
       "\n",
       "    .dataframe tbody tr th {\n",
       "        vertical-align: top;\n",
       "    }\n",
       "\n",
       "    .dataframe thead th {\n",
       "        text-align: right;\n",
       "    }\n",
       "</style>\n",
       "<table border=\"1\" class=\"dataframe\">\n",
       "  <thead>\n",
       "    <tr style=\"text-align: right;\">\n",
       "      <th></th>\n",
       "      <th>site_id</th>\n",
       "      <th>timestamp</th>\n",
       "      <th>air_temperature</th>\n",
       "      <th>cloud_coverage</th>\n",
       "      <th>dew_temperature</th>\n",
       "      <th>precip_depth_1_hr</th>\n",
       "      <th>sea_level_pressure</th>\n",
       "      <th>wind_direction</th>\n",
       "      <th>wind_speed</th>\n",
       "    </tr>\n",
       "  </thead>\n",
       "  <tbody>\n",
       "    <tr>\n",
       "      <th>0</th>\n",
       "      <td>0</td>\n",
       "      <td>2017-01-01 00:00:00</td>\n",
       "      <td>17.8</td>\n",
       "      <td>4.0</td>\n",
       "      <td>11.7</td>\n",
       "      <td>NaN</td>\n",
       "      <td>1021.4</td>\n",
       "      <td>100.0</td>\n",
       "      <td>3.6</td>\n",
       "    </tr>\n",
       "    <tr>\n",
       "      <th>1</th>\n",
       "      <td>0</td>\n",
       "      <td>2017-01-01 01:00:00</td>\n",
       "      <td>17.8</td>\n",
       "      <td>2.0</td>\n",
       "      <td>12.8</td>\n",
       "      <td>0.0</td>\n",
       "      <td>1022.0</td>\n",
       "      <td>130.0</td>\n",
       "      <td>3.1</td>\n",
       "    </tr>\n",
       "    <tr>\n",
       "      <th>2</th>\n",
       "      <td>0</td>\n",
       "      <td>2017-01-01 02:00:00</td>\n",
       "      <td>16.1</td>\n",
       "      <td>0.0</td>\n",
       "      <td>12.8</td>\n",
       "      <td>0.0</td>\n",
       "      <td>1021.9</td>\n",
       "      <td>140.0</td>\n",
       "      <td>3.1</td>\n",
       "    </tr>\n",
       "    <tr>\n",
       "      <th>3</th>\n",
       "      <td>0</td>\n",
       "      <td>2017-01-01 03:00:00</td>\n",
       "      <td>17.2</td>\n",
       "      <td>0.0</td>\n",
       "      <td>13.3</td>\n",
       "      <td>0.0</td>\n",
       "      <td>1022.2</td>\n",
       "      <td>140.0</td>\n",
       "      <td>3.1</td>\n",
       "    </tr>\n",
       "    <tr>\n",
       "      <th>4</th>\n",
       "      <td>0</td>\n",
       "      <td>2017-01-01 04:00:00</td>\n",
       "      <td>16.7</td>\n",
       "      <td>2.0</td>\n",
       "      <td>13.3</td>\n",
       "      <td>0.0</td>\n",
       "      <td>1022.3</td>\n",
       "      <td>130.0</td>\n",
       "      <td>2.6</td>\n",
       "    </tr>\n",
       "  </tbody>\n",
       "</table>\n",
       "</div>"
      ],
      "text/plain": [
       "   site_id            timestamp  air_temperature  cloud_coverage  \\\n",
       "0        0  2017-01-01 00:00:00             17.8             4.0   \n",
       "1        0  2017-01-01 01:00:00             17.8             2.0   \n",
       "2        0  2017-01-01 02:00:00             16.1             0.0   \n",
       "3        0  2017-01-01 03:00:00             17.2             0.0   \n",
       "4        0  2017-01-01 04:00:00             16.7             2.0   \n",
       "\n",
       "   dew_temperature  precip_depth_1_hr  sea_level_pressure  wind_direction  \\\n",
       "0             11.7                NaN              1021.4           100.0   \n",
       "1             12.8                0.0              1022.0           130.0   \n",
       "2             12.8                0.0              1021.9           140.0   \n",
       "3             13.3                0.0              1022.2           140.0   \n",
       "4             13.3                0.0              1022.3           130.0   \n",
       "\n",
       "   wind_speed  \n",
       "0         3.6  \n",
       "1         3.1  \n",
       "2         3.1  \n",
       "3         3.1  \n",
       "4         2.6  "
      ]
     },
     "execution_count": 27,
     "metadata": {},
     "output_type": "execute_result"
    }
   ],
   "source": [
    "#path = r'/content/drive/My Drive/case study1/weather_test.csv'\n",
    "weather_test = pd.read_csv('weather_test.csv')\n",
    "weather_test.head()"
   ]
  },
  {
   "cell_type": "code",
   "execution_count": 28,
   "metadata": {
    "colab": {
     "base_uri": "https://localhost:8080/",
     "height": 394
    },
    "id": "kdOWev1orC3m",
    "outputId": "dd988089-34ae-44df-f351-d5f118760c03"
   },
   "outputs": [
    {
     "data": {
      "text/html": [
       "<div>\n",
       "<style scoped>\n",
       "    .dataframe tbody tr th:only-of-type {\n",
       "        vertical-align: middle;\n",
       "    }\n",
       "\n",
       "    .dataframe tbody tr th {\n",
       "        vertical-align: top;\n",
       "    }\n",
       "\n",
       "    .dataframe thead th {\n",
       "        text-align: right;\n",
       "    }\n",
       "</style>\n",
       "<table border=\"1\" class=\"dataframe\">\n",
       "  <thead>\n",
       "    <tr style=\"text-align: right;\">\n",
       "      <th></th>\n",
       "      <th>row_id</th>\n",
       "      <th>building_id</th>\n",
       "      <th>meter</th>\n",
       "      <th>timestamp</th>\n",
       "      <th>site_id</th>\n",
       "      <th>primary_use</th>\n",
       "      <th>square_feet</th>\n",
       "      <th>year_built</th>\n",
       "      <th>floor_count</th>\n",
       "      <th>air_temperature</th>\n",
       "      <th>cloud_coverage</th>\n",
       "      <th>dew_temperature</th>\n",
       "      <th>precip_depth_1_hr</th>\n",
       "      <th>sea_level_pressure</th>\n",
       "      <th>wind_direction</th>\n",
       "      <th>wind_speed</th>\n",
       "    </tr>\n",
       "  </thead>\n",
       "  <tbody>\n",
       "    <tr>\n",
       "      <th>0</th>\n",
       "      <td>0</td>\n",
       "      <td>0</td>\n",
       "      <td>0</td>\n",
       "      <td>2017-01-01 00:00:00</td>\n",
       "      <td>0</td>\n",
       "      <td>Education</td>\n",
       "      <td>7432</td>\n",
       "      <td>2008.0</td>\n",
       "      <td>NaN</td>\n",
       "      <td>17.8</td>\n",
       "      <td>4.0</td>\n",
       "      <td>11.7</td>\n",
       "      <td>NaN</td>\n",
       "      <td>1021.4</td>\n",
       "      <td>100.0</td>\n",
       "      <td>3.6</td>\n",
       "    </tr>\n",
       "    <tr>\n",
       "      <th>1</th>\n",
       "      <td>1</td>\n",
       "      <td>1</td>\n",
       "      <td>0</td>\n",
       "      <td>2017-01-01 00:00:00</td>\n",
       "      <td>0</td>\n",
       "      <td>Education</td>\n",
       "      <td>2720</td>\n",
       "      <td>2004.0</td>\n",
       "      <td>NaN</td>\n",
       "      <td>17.8</td>\n",
       "      <td>4.0</td>\n",
       "      <td>11.7</td>\n",
       "      <td>NaN</td>\n",
       "      <td>1021.4</td>\n",
       "      <td>100.0</td>\n",
       "      <td>3.6</td>\n",
       "    </tr>\n",
       "    <tr>\n",
       "      <th>2</th>\n",
       "      <td>2</td>\n",
       "      <td>2</td>\n",
       "      <td>0</td>\n",
       "      <td>2017-01-01 00:00:00</td>\n",
       "      <td>0</td>\n",
       "      <td>Education</td>\n",
       "      <td>5376</td>\n",
       "      <td>1991.0</td>\n",
       "      <td>NaN</td>\n",
       "      <td>17.8</td>\n",
       "      <td>4.0</td>\n",
       "      <td>11.7</td>\n",
       "      <td>NaN</td>\n",
       "      <td>1021.4</td>\n",
       "      <td>100.0</td>\n",
       "      <td>3.6</td>\n",
       "    </tr>\n",
       "    <tr>\n",
       "      <th>3</th>\n",
       "      <td>3</td>\n",
       "      <td>3</td>\n",
       "      <td>0</td>\n",
       "      <td>2017-01-01 00:00:00</td>\n",
       "      <td>0</td>\n",
       "      <td>Education</td>\n",
       "      <td>23685</td>\n",
       "      <td>2002.0</td>\n",
       "      <td>NaN</td>\n",
       "      <td>17.8</td>\n",
       "      <td>4.0</td>\n",
       "      <td>11.7</td>\n",
       "      <td>NaN</td>\n",
       "      <td>1021.4</td>\n",
       "      <td>100.0</td>\n",
       "      <td>3.6</td>\n",
       "    </tr>\n",
       "    <tr>\n",
       "      <th>4</th>\n",
       "      <td>4</td>\n",
       "      <td>4</td>\n",
       "      <td>0</td>\n",
       "      <td>2017-01-01 00:00:00</td>\n",
       "      <td>0</td>\n",
       "      <td>Education</td>\n",
       "      <td>116607</td>\n",
       "      <td>1975.0</td>\n",
       "      <td>NaN</td>\n",
       "      <td>17.8</td>\n",
       "      <td>4.0</td>\n",
       "      <td>11.7</td>\n",
       "      <td>NaN</td>\n",
       "      <td>1021.4</td>\n",
       "      <td>100.0</td>\n",
       "      <td>3.6</td>\n",
       "    </tr>\n",
       "  </tbody>\n",
       "</table>\n",
       "</div>"
      ],
      "text/plain": [
       "   row_id  building_id  meter            timestamp  site_id primary_use  \\\n",
       "0       0            0      0  2017-01-01 00:00:00        0   Education   \n",
       "1       1            1      0  2017-01-01 00:00:00        0   Education   \n",
       "2       2            2      0  2017-01-01 00:00:00        0   Education   \n",
       "3       3            3      0  2017-01-01 00:00:00        0   Education   \n",
       "4       4            4      0  2017-01-01 00:00:00        0   Education   \n",
       "\n",
       "   square_feet  year_built  floor_count  air_temperature  cloud_coverage  \\\n",
       "0         7432      2008.0          NaN             17.8             4.0   \n",
       "1         2720      2004.0          NaN             17.8             4.0   \n",
       "2         5376      1991.0          NaN             17.8             4.0   \n",
       "3        23685      2002.0          NaN             17.8             4.0   \n",
       "4       116607      1975.0          NaN             17.8             4.0   \n",
       "\n",
       "   dew_temperature  precip_depth_1_hr  sea_level_pressure  wind_direction  \\\n",
       "0             11.7                NaN              1021.4           100.0   \n",
       "1             11.7                NaN              1021.4           100.0   \n",
       "2             11.7                NaN              1021.4           100.0   \n",
       "3             11.7                NaN              1021.4           100.0   \n",
       "4             11.7                NaN              1021.4           100.0   \n",
       "\n",
       "   wind_speed  \n",
       "0         3.6  \n",
       "1         3.6  \n",
       "2         3.6  \n",
       "3         3.6  \n",
       "4         3.6  "
      ]
     },
     "execution_count": 28,
     "metadata": {},
     "output_type": "execute_result"
    }
   ],
   "source": [
    "new_test=pd.merge(test,building_data,how=\"left\",on='building_id')\n",
    "test_data=pd.merge(new_test,weather_test,how=\"left\",on=['site_id','timestamp'])\n",
    "test_data.head()"
   ]
  },
  {
   "cell_type": "code",
   "execution_count": 29,
   "metadata": {
    "id": "cagUZPpasO8p"
   },
   "outputs": [],
   "source": [
    "'''make a copy of train data and add features'''\n",
    "test_copy = test_data.copy()"
   ]
  },
  {
   "cell_type": "code",
   "execution_count": null,
   "metadata": {
    "colab": {
     "base_uri": "https://localhost:8080/",
     "height": 224
    },
    "id": "lLFo43orsO81",
    "outputId": "a1ede270-a5de-45dc-b77a-5b6afe595903"
   },
   "outputs": [
    {
     "data": {
      "text/html": [
       "<div>\n",
       "<style scoped>\n",
       "    .dataframe tbody tr th:only-of-type {\n",
       "        vertical-align: middle;\n",
       "    }\n",
       "\n",
       "    .dataframe tbody tr th {\n",
       "        vertical-align: top;\n",
       "    }\n",
       "\n",
       "    .dataframe thead th {\n",
       "        text-align: right;\n",
       "    }\n",
       "</style>\n",
       "<table border=\"1\" class=\"dataframe\">\n",
       "  <thead>\n",
       "    <tr style=\"text-align: right;\">\n",
       "      <th></th>\n",
       "      <th>row_id</th>\n",
       "      <th>building_id</th>\n",
       "      <th>meter</th>\n",
       "      <th>site_id</th>\n",
       "      <th>primary_use</th>\n",
       "      <th>square_feet</th>\n",
       "      <th>year_built</th>\n",
       "      <th>floor_count</th>\n",
       "      <th>air_temperature</th>\n",
       "      <th>cloud_coverage</th>\n",
       "      <th>dew_temperature</th>\n",
       "      <th>precip_depth_1_hr</th>\n",
       "      <th>sea_level_pressure</th>\n",
       "      <th>wind_direction</th>\n",
       "      <th>wind_speed</th>\n",
       "    </tr>\n",
       "  </thead>\n",
       "  <tbody>\n",
       "    <tr>\n",
       "      <th>0</th>\n",
       "      <td>0</td>\n",
       "      <td>0</td>\n",
       "      <td>0</td>\n",
       "      <td>0</td>\n",
       "      <td>Education</td>\n",
       "      <td>7432</td>\n",
       "      <td>2008.0</td>\n",
       "      <td>NaN</td>\n",
       "      <td>17.8</td>\n",
       "      <td>4.0</td>\n",
       "      <td>11.7</td>\n",
       "      <td>NaN</td>\n",
       "      <td>1021.4</td>\n",
       "      <td>100.0</td>\n",
       "      <td>3.6</td>\n",
       "    </tr>\n",
       "    <tr>\n",
       "      <th>1</th>\n",
       "      <td>1</td>\n",
       "      <td>1</td>\n",
       "      <td>0</td>\n",
       "      <td>0</td>\n",
       "      <td>Education</td>\n",
       "      <td>2720</td>\n",
       "      <td>2004.0</td>\n",
       "      <td>NaN</td>\n",
       "      <td>17.8</td>\n",
       "      <td>4.0</td>\n",
       "      <td>11.7</td>\n",
       "      <td>NaN</td>\n",
       "      <td>1021.4</td>\n",
       "      <td>100.0</td>\n",
       "      <td>3.6</td>\n",
       "    </tr>\n",
       "    <tr>\n",
       "      <th>2</th>\n",
       "      <td>2</td>\n",
       "      <td>2</td>\n",
       "      <td>0</td>\n",
       "      <td>0</td>\n",
       "      <td>Education</td>\n",
       "      <td>5376</td>\n",
       "      <td>1991.0</td>\n",
       "      <td>NaN</td>\n",
       "      <td>17.8</td>\n",
       "      <td>4.0</td>\n",
       "      <td>11.7</td>\n",
       "      <td>NaN</td>\n",
       "      <td>1021.4</td>\n",
       "      <td>100.0</td>\n",
       "      <td>3.6</td>\n",
       "    </tr>\n",
       "    <tr>\n",
       "      <th>3</th>\n",
       "      <td>3</td>\n",
       "      <td>3</td>\n",
       "      <td>0</td>\n",
       "      <td>0</td>\n",
       "      <td>Education</td>\n",
       "      <td>23685</td>\n",
       "      <td>2002.0</td>\n",
       "      <td>NaN</td>\n",
       "      <td>17.8</td>\n",
       "      <td>4.0</td>\n",
       "      <td>11.7</td>\n",
       "      <td>NaN</td>\n",
       "      <td>1021.4</td>\n",
       "      <td>100.0</td>\n",
       "      <td>3.6</td>\n",
       "    </tr>\n",
       "    <tr>\n",
       "      <th>4</th>\n",
       "      <td>4</td>\n",
       "      <td>4</td>\n",
       "      <td>0</td>\n",
       "      <td>0</td>\n",
       "      <td>Education</td>\n",
       "      <td>116607</td>\n",
       "      <td>1975.0</td>\n",
       "      <td>NaN</td>\n",
       "      <td>17.8</td>\n",
       "      <td>4.0</td>\n",
       "      <td>11.7</td>\n",
       "      <td>NaN</td>\n",
       "      <td>1021.4</td>\n",
       "      <td>100.0</td>\n",
       "      <td>3.6</td>\n",
       "    </tr>\n",
       "  </tbody>\n",
       "</table>\n",
       "</div>"
      ],
      "text/plain": [
       "   row_id  building_id  meter  ...  sea_level_pressure wind_direction  wind_speed\n",
       "0       0            0      0  ...              1021.4          100.0         3.6\n",
       "1       1            1      0  ...              1021.4          100.0         3.6\n",
       "2       2            2      0  ...              1021.4          100.0         3.6\n",
       "3       3            3      0  ...              1021.4          100.0         3.6\n",
       "4       4            4      0  ...              1021.4          100.0         3.6\n",
       "\n",
       "[5 rows x 15 columns]"
      ]
     },
     "execution_count": 9,
     "metadata": {
      "tags": []
     },
     "output_type": "execute_result"
    }
   ],
   "source": [
    "'''Dropping Timestamp and extracting other features from timestamp'''\n",
    "test_copy.drop(columns=['timestamp'],inplace=True,axis=1)\n",
    "test_copy.head()"
   ]
  },
  {
   "cell_type": "code",
   "execution_count": 30,
   "metadata": {
    "colab": {
     "base_uri": "https://localhost:8080/"
    },
    "id": "7ai9CZdw27rv",
    "outputId": "b50c1c99-d17f-45e4-99ca-5b55f37bbe5e"
   },
   "outputs": [
    {
     "data": {
      "text/plain": [
       "(41697600, 16)"
      ]
     },
     "execution_count": 30,
     "metadata": {},
     "output_type": "execute_result"
    }
   ],
   "source": [
    "test_copy.shape"
   ]
  },
  {
   "cell_type": "code",
   "execution_count": 31,
   "metadata": {
    "colab": {
     "base_uri": "https://localhost:8080/",
     "height": 309
    },
    "id": "ePVFsmiQ3ILc",
    "outputId": "969687ec-36cb-49ca-ed02-bf24d5de0b75"
   },
   "outputs": [
    {
     "data": {
      "text/html": [
       "<div>\n",
       "<style scoped>\n",
       "    .dataframe tbody tr th:only-of-type {\n",
       "        vertical-align: middle;\n",
       "    }\n",
       "\n",
       "    .dataframe tbody tr th {\n",
       "        vertical-align: top;\n",
       "    }\n",
       "\n",
       "    .dataframe thead th {\n",
       "        text-align: right;\n",
       "    }\n",
       "</style>\n",
       "<table border=\"1\" class=\"dataframe\">\n",
       "  <thead>\n",
       "    <tr style=\"text-align: right;\">\n",
       "      <th></th>\n",
       "      <th>row_id</th>\n",
       "      <th>building_id</th>\n",
       "      <th>meter</th>\n",
       "      <th>timestamp</th>\n",
       "      <th>site_id</th>\n",
       "      <th>primary_use</th>\n",
       "      <th>square_feet</th>\n",
       "      <th>year_built</th>\n",
       "      <th>floor_count</th>\n",
       "      <th>air_temperature</th>\n",
       "      <th>cloud_coverage</th>\n",
       "      <th>dew_temperature</th>\n",
       "      <th>precip_depth_1_hr</th>\n",
       "      <th>sea_level_pressure</th>\n",
       "      <th>wind_direction</th>\n",
       "      <th>wind_speed</th>\n",
       "      <th>hour</th>\n",
       "      <th>day</th>\n",
       "      <th>month</th>\n",
       "      <th>weekday</th>\n",
       "    </tr>\n",
       "  </thead>\n",
       "  <tbody>\n",
       "    <tr>\n",
       "      <th>0</th>\n",
       "      <td>0</td>\n",
       "      <td>0</td>\n",
       "      <td>0</td>\n",
       "      <td>2017-01-01</td>\n",
       "      <td>0</td>\n",
       "      <td>Education</td>\n",
       "      <td>8</td>\n",
       "      <td>2008.0</td>\n",
       "      <td>NaN</td>\n",
       "      <td>17.8</td>\n",
       "      <td>4.0</td>\n",
       "      <td>11.7</td>\n",
       "      <td>NaN</td>\n",
       "      <td>1021.4</td>\n",
       "      <td>100.0</td>\n",
       "      <td>3.6</td>\n",
       "      <td>0</td>\n",
       "      <td>1</td>\n",
       "      <td>1</td>\n",
       "      <td>6</td>\n",
       "    </tr>\n",
       "    <tr>\n",
       "      <th>1</th>\n",
       "      <td>1</td>\n",
       "      <td>1</td>\n",
       "      <td>0</td>\n",
       "      <td>2017-01-01</td>\n",
       "      <td>0</td>\n",
       "      <td>Education</td>\n",
       "      <td>160</td>\n",
       "      <td>2004.0</td>\n",
       "      <td>NaN</td>\n",
       "      <td>17.8</td>\n",
       "      <td>4.0</td>\n",
       "      <td>11.7</td>\n",
       "      <td>NaN</td>\n",
       "      <td>1021.4</td>\n",
       "      <td>100.0</td>\n",
       "      <td>3.6</td>\n",
       "      <td>0</td>\n",
       "      <td>1</td>\n",
       "      <td>1</td>\n",
       "      <td>6</td>\n",
       "    </tr>\n",
       "    <tr>\n",
       "      <th>2</th>\n",
       "      <td>2</td>\n",
       "      <td>2</td>\n",
       "      <td>0</td>\n",
       "      <td>2017-01-01</td>\n",
       "      <td>0</td>\n",
       "      <td>Education</td>\n",
       "      <td>0</td>\n",
       "      <td>1991.0</td>\n",
       "      <td>NaN</td>\n",
       "      <td>17.8</td>\n",
       "      <td>4.0</td>\n",
       "      <td>11.7</td>\n",
       "      <td>NaN</td>\n",
       "      <td>1021.4</td>\n",
       "      <td>100.0</td>\n",
       "      <td>3.6</td>\n",
       "      <td>0</td>\n",
       "      <td>1</td>\n",
       "      <td>1</td>\n",
       "      <td>6</td>\n",
       "    </tr>\n",
       "    <tr>\n",
       "      <th>3</th>\n",
       "      <td>3</td>\n",
       "      <td>3</td>\n",
       "      <td>0</td>\n",
       "      <td>2017-01-01</td>\n",
       "      <td>0</td>\n",
       "      <td>Education</td>\n",
       "      <td>133</td>\n",
       "      <td>2002.0</td>\n",
       "      <td>NaN</td>\n",
       "      <td>17.8</td>\n",
       "      <td>4.0</td>\n",
       "      <td>11.7</td>\n",
       "      <td>NaN</td>\n",
       "      <td>1021.4</td>\n",
       "      <td>100.0</td>\n",
       "      <td>3.6</td>\n",
       "      <td>0</td>\n",
       "      <td>1</td>\n",
       "      <td>1</td>\n",
       "      <td>6</td>\n",
       "    </tr>\n",
       "    <tr>\n",
       "      <th>4</th>\n",
       "      <td>4</td>\n",
       "      <td>4</td>\n",
       "      <td>0</td>\n",
       "      <td>2017-01-01</td>\n",
       "      <td>0</td>\n",
       "      <td>Education</td>\n",
       "      <td>127</td>\n",
       "      <td>1975.0</td>\n",
       "      <td>NaN</td>\n",
       "      <td>17.8</td>\n",
       "      <td>4.0</td>\n",
       "      <td>11.7</td>\n",
       "      <td>NaN</td>\n",
       "      <td>1021.4</td>\n",
       "      <td>100.0</td>\n",
       "      <td>3.6</td>\n",
       "      <td>0</td>\n",
       "      <td>1</td>\n",
       "      <td>1</td>\n",
       "      <td>6</td>\n",
       "    </tr>\n",
       "  </tbody>\n",
       "</table>\n",
       "</div>"
      ],
      "text/plain": [
       "   row_id  building_id  meter  timestamp  site_id primary_use  square_feet  \\\n",
       "0       0            0      0 2017-01-01        0   Education            8   \n",
       "1       1            1      0 2017-01-01        0   Education          160   \n",
       "2       2            2      0 2017-01-01        0   Education            0   \n",
       "3       3            3      0 2017-01-01        0   Education          133   \n",
       "4       4            4      0 2017-01-01        0   Education          127   \n",
       "\n",
       "   year_built  floor_count  air_temperature  cloud_coverage  dew_temperature  \\\n",
       "0      2008.0          NaN             17.8             4.0             11.7   \n",
       "1      2004.0          NaN             17.8             4.0             11.7   \n",
       "2      1991.0          NaN             17.8             4.0             11.7   \n",
       "3      2002.0          NaN             17.8             4.0             11.7   \n",
       "4      1975.0          NaN             17.8             4.0             11.7   \n",
       "\n",
       "   precip_depth_1_hr  sea_level_pressure  wind_direction  wind_speed  hour  \\\n",
       "0                NaN              1021.4           100.0         3.6     0   \n",
       "1                NaN              1021.4           100.0         3.6     0   \n",
       "2                NaN              1021.4           100.0         3.6     0   \n",
       "3                NaN              1021.4           100.0         3.6     0   \n",
       "4                NaN              1021.4           100.0         3.6     0   \n",
       "\n",
       "   day  month  weekday  \n",
       "0    1      1        6  \n",
       "1    1      1        6  \n",
       "2    1      1        6  \n",
       "3    1      1        6  \n",
       "4    1      1        6  "
      ]
     },
     "execution_count": 31,
     "metadata": {},
     "output_type": "execute_result"
    }
   ],
   "source": [
    "''' add new features'''\n",
    "test_copy['timestamp']=pd.to_datetime(test_copy['timestamp'])\n",
    "test_copy['hour']=np.uint8(test_copy['timestamp'].dt.hour)\n",
    "test_copy['day']=np.uint8(test_copy['timestamp'].dt.day)\n",
    "test_copy['month']=np.uint8(test_copy['timestamp'].dt.month)\n",
    "test_copy['weekday']=np.uint8(test_copy['timestamp'].dt.dayofweek)\n",
    "''' change the datatype to reduce memory usage'''\n",
    "test_copy['building_id']=np.uint8(test_copy['building_id'])\n",
    "test_copy['meter']=np.uint8(test_copy['meter'])\n",
    "test_copy['site_id']=np.uint8(test_copy['site_id'])\n",
    "test_copy['square_feet']=np.uint8(test_copy['square_feet'])\n",
    "\n",
    "test_copy.head()"
   ]
  },
  {
   "cell_type": "code",
   "execution_count": 32,
   "metadata": {
    "colab": {
     "base_uri": "https://localhost:8080/"
    },
    "id": "ui6FWnrr3eOg",
    "outputId": "f30ec3cf-d6e0-476e-890f-2ee6eddea58e"
   },
   "outputs": [
    {
     "data": {
      "text/plain": [
       "(41697600, 20)"
      ]
     },
     "execution_count": 32,
     "metadata": {},
     "output_type": "execute_result"
    }
   ],
   "source": [
    "test_copy.shape"
   ]
  },
  {
   "cell_type": "code",
   "execution_count": 33,
   "metadata": {
    "id": "4pHA-KvC3ttR"
   },
   "outputs": [],
   "source": [
    "''' to save the test csv file for future use'''\n",
    "#path = r'/content/drive/My Drive/case study1/test_final.csv'\n",
    "test_copy.to_csv('test_final.csv',index=False)"
   ]
  },
  {
   "cell_type": "code",
   "execution_count": null,
   "metadata": {},
   "outputs": [],
   "source": []
  }
 ],
 "metadata": {
  "accelerator": "GPU",
  "colab": {
   "collapsed_sections": [],
   "machine_shape": "hm",
   "name": "Casestudy1.ipynb",
   "provenance": []
  },
  "kernelspec": {
   "display_name": "Python 3",
   "language": "python",
   "name": "python3"
  },
  "language_info": {
   "codemirror_mode": {
    "name": "ipython",
    "version": 3
   },
   "file_extension": ".py",
   "mimetype": "text/x-python",
   "name": "python",
   "nbconvert_exporter": "python",
   "pygments_lexer": "ipython3",
   "version": "3.6.12"
  }
 },
 "nbformat": 4,
 "nbformat_minor": 1
}
