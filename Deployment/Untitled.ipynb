{
 "cells": [
  {
   "cell_type": "code",
   "execution_count": 1,
   "id": "green-active",
   "metadata": {},
   "outputs": [],
   "source": [
    "import pandas as pd\n",
    "import numpy as np\n",
    "import datetime\n",
    "import seaborn as sns\n",
    "import matplotlib.pyplot as plt\n",
    "from sklearn.preprocessing import LabelEncoder\n",
    "from joblib import dump, load\n",
    "import pickle\n",
    "from flask import Flask, jsonify, request\n",
    "import numpy as np\n",
    "from sklearn.externals import joblib\n",
    "import pandas as pd\n",
    "import numpy as np\n",
    "from sklearn import linear_model\n",
    "from sklearn.externals import joblib\n",
    "from bs4 import BeautifulSoup\n",
    "import re"
   ]
  },
  {
   "cell_type": "code",
   "execution_count": null,
   "id": "tropical-confusion",
   "metadata": {},
   "outputs": [],
   "source": [
    "import flask\n",
    "app = Flask(__name__)"
   ]
  },
  {
   "cell_type": "code",
   "execution_count": null,
   "id": "great-enforcement",
   "metadata": {},
   "outputs": [],
   "source": [
    "''' add new features'''\n",
    "def add_feature(test_copy):\n",
    "    test_copy['timestamp']=pd.to_datetime(test_copy['timestamp'])\n",
    "    test_copy['hour']=np.uint8(test_copy['timestamp'].dt.hour)\n",
    "    test_copy['day']=np.uint8(test_copy['timestamp'].dt.day)\n",
    "    test_copy['month']=np.uint8(test_copy['timestamp'].dt.month)\n",
    "    test_copy['weekday']=np.uint8(test_copy['timestamp'].dt.dayofweek)\n",
    "    ''' change the datatype to reduce memory usage'''\n",
    "    test_copy['building_id']=np.uint8(test_copy['building_id'])\n",
    "    test_copy['meter']=np.uint8(test_copy['meter'])\n",
    "    test_copy['site_id']=np.uint8(test_copy['site_id'])\n",
    "    test_copy['square_feet']=np.uint8(test_copy['square_feet'])\n",
    "    \n",
    "    return test_copy"
   ]
  },
  {
   "cell_type": "code",
   "execution_count": null,
   "id": "opponent-debut",
   "metadata": {},
   "outputs": [],
   "source": [
    "def preprocessed(test_copy):\n",
    "    LabelEncoder = load('LabelEncoder_primary_use.joblib')\n",
    "    test_copy['primary_use'] = LabelEncoder.transform(test_copy['primary_use'])\n",
    "        \n",
    "    test_copy['year_built'].fillna(1969.0,inplace  = True)\n",
    "    test_copy['floor_count'].fillna(3.0,inplace  = True)\n",
    "    test_copy['air_temperature'].fillna(15.505707129926357,inplace  = True)\n",
    "    test_copy['cloud_coverage'].fillna(1.9733458449444876,inplace  = True)\n",
    "    test_copy['dew_temperature'].fillna(7.585971305989484,inplace  = True)\n",
    "    test_copy['precip_depth_1_hr'].fillna(0.9182989150029545,inplace  = True)\n",
    "    test_copy['sea_level_pressure'].fillna(1016.1999821450886,inplace  = True)\n",
    "    test_copy['wind_direction'].fillna(173.84081711747407,inplace  = True)\n",
    "    test_copy['wind_speed'].fillna(3.3861529705667808,inplace  = True)\n",
    "    test_copy.drop('row_id',axis=1,inplace=True)\n",
    "    test_copy.drop('timestamp',axis=1,inplace=True)\n",
    "    \n",
    "    return test_copy\n"
   ]
  },
  {
   "cell_type": "code",
   "execution_count": null,
   "id": "handy-haiti",
   "metadata": {},
   "outputs": [],
   "source": [
    "@app.route('/')\n",
    "def hello_world():\n",
    "    return 'Hello World!'\n",
    "\n",
    "\n",
    "@app.route('/index')\n",
    "def index():\n",
    "    return flask.render_template('index.html')\n",
    "\n",
    "\n",
    "@app.route('/predict', methods=['POST'])"
   ]
  },
  {
   "cell_type": "code",
   "execution_count": null,
   "id": "gothic-fundamentals",
   "metadata": {},
   "outputs": [],
   "source": [
    "def predict():\n",
    "        \n",
    "    df_pred = pd.DataFrame()\n",
    "    to_predict_list = request.form.to_dict()\n",
    "    df = pd.DataFrame(to_predict_list.values(),columns=[to_predict_list.keys()])\n",
    "    feature_added_df=add_feature(df)\n",
    "    preprocesse_df=preprocessed(feature_added_df)\n",
    "    #pred = clf.predict(df)\n",
    "    stack=[]\n",
    "    clf1 = joblib.load('Lasso_1.joblib')\n",
    "    stack.append(clf1.predict(preprocesse_df))\n",
    "    clf2 = joblib.load('Ridge_2.joblib')\n",
    "    stack.append(clf2.predict(preprocesse_df))\n",
    "    clf3 = joblib.load('ElasticNet_3.joblib')\n",
    "    stack.append(clf3.predict(preprocesse_df))\n",
    "    clf4 = joblib.load('XGBRegressor_4.joblib')\n",
    "    stack.append(clf4.predict(preprocesse_df))\n",
    "    clf5 = joblib.load('DecisionTreeRegressor_5.joblib')\n",
    "    stack.append(clf5.predict(preprocesse_df))\n",
    "    clf6 = joblib.load('LinearRegression_6.joblib')\n",
    "    stack.append(clf6.predict(preprocesse_df))\n",
    "    clf7 = joblib.load('Lasso_7.joblib')\n",
    "    stack.append(clf7.predict(preprocesse_df))\n",
    "    clf8 = joblib.load('Ridge_8.joblib')\n",
    "    stack.append(clf8.predict(preprocesse_df))\n",
    "    clf9 = joblib.load('ElasticNet_9.joblib')\n",
    "    stack.append(clf9.predict(preprocesse_df))\n",
    "    clf10 = joblib.load('XGBRegressor_10.joblib')\n",
    "    stack.append(clf10.predict(preprocesse_df))\n",
    "    \n",
    "    stack=np.array(stack)   \n",
    "    Metamodel = joblib.load('Metamodel.joblib')\n",
    "    prediction=Metamodel.predict(stack)\n",
    "    \n",
    "    return jsonify({'prediction': prediction})\n",
    "    "
   ]
  },
  {
   "cell_type": "code",
   "execution_count": null,
   "id": "informed-forest",
   "metadata": {},
   "outputs": [],
   "source": [
    "if __name__ == '__main__':\n",
    "    app.run(host='0.0.0.0', port=8080)"
   ]
  }
 ],
 "metadata": {
  "kernelspec": {
   "display_name": "Python 3",
   "language": "python",
   "name": "python3"
  },
  "language_info": {
   "codemirror_mode": {
    "name": "ipython",
    "version": 3
   },
   "file_extension": ".py",
   "mimetype": "text/x-python",
   "name": "python",
   "nbconvert_exporter": "python",
   "pygments_lexer": "ipython3",
   "version": "3.7.9"
  }
 },
 "nbformat": 4,
 "nbformat_minor": 5
}
